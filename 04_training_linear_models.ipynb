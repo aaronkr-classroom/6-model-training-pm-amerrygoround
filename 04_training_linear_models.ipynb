{
  "cells": [
    {
      "cell_type": "markdown",
      "metadata": {
        "id": "y2-owBXbYjKX"
      },
      "source": [
        "**4장 – 모델 훈련**"
      ]
    },
    {
      "cell_type": "markdown",
      "metadata": {
        "id": "w55-ZzSbYjKZ"
      },
      "source": [
        "_이 노트북은 4장에 있는 모든 샘플 코드와 연습문제 해답을 가지고 있습니다._"
      ]
    },
    {
      "cell_type": "markdown",
      "metadata": {
        "id": "CK31ufyfYjKa"
      },
      "source": [
        "<table align=\"left\">\n",
        "  <td>\n",
        "    <a href=\"https://colab.research.google.com/github/rickiepark/handson-ml3/blob/main/04_training_linear_models.ipynb\" target=\"_parent\"><img src=\"https://colab.research.google.com/assets/colab-badge.svg\" alt=\"Open In Colab\"/></a>\n",
        "  </td>\n",
        "</table>"
      ]
    },
    {
      "cell_type": "markdown",
      "metadata": {
        "id": "HGAh76vHYjKa",
        "tags": []
      },
      "source": [
        "# 4.0 설정"
      ]
    },
    {
      "cell_type": "markdown",
      "metadata": {
        "id": "OBtbI1fiYjKa"
      },
      "source": [
        "이 프로젝트에는 파이썬 3.7 이상이 필요합니다:"
      ]
    },
    {
      "cell_type": "code",
      "execution_count": 1,
      "metadata": {
        "id": "3vj5D5LXYjKb"
      },
      "outputs": [],
      "source": [
        "import sys\n",
        "\n",
        "assert sys.version_info >= (3, 7)"
      ]
    },
    {
      "cell_type": "markdown",
      "metadata": {
        "id": "Q4m78LG7YjKb"
      },
      "source": [
        "또한 사이킷런 ≥ 1.0.1이 필요합니다:"
      ]
    },
    {
      "cell_type": "code",
      "execution_count": 2,
      "metadata": {
        "id": "igRTEd7IYjKc"
      },
      "outputs": [],
      "source": [
        "from packaging import version\n",
        "import sklearn\n",
        "\n",
        "assert version.parse(sklearn.__version__) >= version.parse(\"1.0.1\")"
      ]
    },
    {
      "cell_type": "markdown",
      "metadata": {
        "id": "DH1ImfijYjKc"
      },
      "source": [
        "이전 챕터에서 했던 것처럼 기본 글꼴 크기를 정의하여 그림을 더 예쁘게 만들어 보겠습니다:"
      ]
    },
    {
      "cell_type": "code",
      "execution_count": 3,
      "metadata": {
        "id": "r7aJaOB-YjKc"
      },
      "outputs": [],
      "source": [
        "import matplotlib.pyplot as plt\n",
        "\n",
        "plt.rc('font', size=14)\n",
        "plt.rc('axes', labelsize=14, titlesize=14)\n",
        "plt.rc('legend', fontsize=14)\n",
        "plt.rc('xtick', labelsize=10)\n",
        "plt.rc('ytick', labelsize=10)"
      ]
    },
    {
      "cell_type": "markdown",
      "metadata": {
        "id": "WASWPNODYjKc"
      },
      "source": [
        "그리고 `images/training_linear_models` 폴더(아직 존재하지 않는 경우)를 만들고, 이 노트북을 통해 책에 사용할 그림을 고해상도로 저장하는 데 사용되는 `save_fig()` 함수를 정의해 보겠습니다:"
      ]
    },
    {
      "cell_type": "code",
      "execution_count": 4,
      "metadata": {
        "id": "4ybQal88YjKd"
      },
      "outputs": [],
      "source": [
        "from pathlib import Path\n",
        "\n",
        "IMAGES_PATH = Path() / \"images\"\n",
        "IMAGES_PATH.mkdir(parents=True, exist_ok=True)\n",
        "\n",
        "def save_fig(fig_id, tight_layout=True, fig_extension=\"png\", resolution=300):\n",
        "    path = IMAGES_PATH / f\"{fig_id}.{fig_extension}\"\n",
        "    if tight_layout:\n",
        "        plt.tight_layout()\n",
        "    plt.savefig(path, format=fig_extension, dpi=resolution)"
      ]
    },
    {
      "cell_type": "markdown",
      "metadata": {
        "id": "1iamejtAYjKd"
      },
      "source": [
        "# 4.1 선형 회귀"
      ]
    },
    {
      "cell_type": "markdown",
      "metadata": {
        "id": "FgV6SGjUYjKd"
      },
      "source": [
        "## 4.1.1 정규 방정식"
      ]
    },
    {
      "cell_type": "code",
      "execution_count": 5,
      "metadata": {
        "id": "zJLUDJDGYjKd"
      },
      "outputs": [],
      "source": [
        "import numpy as np\n",
        "\n",
        "np.random.seed(42) # 코드 예제를 재현 가능하게 만들기 위해\n",
        "m = 100 # 샘플 개수\n",
        "X = 2 * np.random.rand(m,1)# 열 벡터\n",
        "y = 4 + 3 * X + np.random.randn(m,1) # 열 벡터"
      ]
    },
    {
      "cell_type": "code",
      "execution_count": 6,
      "metadata": {
        "colab": {
          "base_uri": "https://localhost:8080/",
          "height": 395
        },
        "id": "Z09UC0wTYjKd",
        "outputId": "498c66f8-3200-4651-c939-8bab454afb09"
      },
      "outputs": [
        {
          "data": {
            "image/png": "[encoded data removed]",
            "text/plain": [
              "<Figure size 600x400 with 1 Axes>"
            ]
          },
          "metadata": {},
          "output_type": "display_data"
        }
      ],
      "source": [
        "# 추가 코드 - 그림 4-1 생성 및 저장\n",
        "\n",
        "import matplotlib.pyplot as plt\n",
        "\n",
        "plt.figure(figsize=(6, 4))\n",
        "plt.plot(X, y, \"b.\")\n",
        "plt.xlabel(\"$x_1$\")\n",
        "plt.ylabel(\"$y$\", rotation=0)\n",
        "plt.axis([0, 2, 0, 15])\n",
        "plt.grid()\n",
        "save_fig(\"generated_data_plot\")\n",
        "plt.show()"
      ]
    },
    {
      "cell_type": "code",
      "execution_count": 10,
      "metadata": {
        "id": "X3oC-dS3YjKe"
      },
      "outputs": [],
      "source": [
        "from sklearn.preprocessing import add_dummy_feature\n",
        "\n",
        "X_b = add_dummy_feature(X) # 각 샘플에 x0 = 1을 추가합니다.\n",
        "theta_best = np.linalg.inv(X_b.T @ X_b) @ X_b.T @ y"
      ]
    },
    {
      "cell_type": "code",
      "execution_count": 11,
      "metadata": {
        "colab": {
          "base_uri": "https://localhost:8080/"
        },
        "id": "miQAPNfEYjKe",
        "outputId": "bace4e23-3b3b-49b5-a0bf-786b8d5d33cd"
      },
      "outputs": [
        {
          "data": {
            "text/plain": [
              "array([[4.21509616],\n",
              "       [2.77011339]])"
            ]
          },
          "execution_count": 11,
          "metadata": {},
          "output_type": "execute_result"
        }
      ],
      "source": [
        "theta_best"
      ]
    },
    {
      "cell_type": "code",
      "execution_count": 12,
      "metadata": {
        "colab": {
          "base_uri": "https://localhost:8080/"
        },
        "id": "y5TLV2oBYjKe",
        "outputId": "1e160082-f3d5-4bef-ec15-d29f593d86b6"
      },
      "outputs": [
        {
          "data": {
            "text/plain": [
              "array([[4.21509616],\n",
              "       [9.75532293]])"
            ]
          },
          "execution_count": 12,
          "metadata": {},
          "output_type": "execute_result"
        }
      ],
      "source": [
        "# 각 샘플에 x0 = 1을 추가합니다.\n",
        "X_new = np.array([[0], [2]])\n",
        "X_new_b = add_dummy_feature(X_new)\n",
        "y_predict = X_new_b @ theta_best\n",
        "y_predict\n",
        "\n",
        "# y = 4 + 3x"
      ]
    },
    {
      "cell_type": "code",
      "execution_count": 13,
      "metadata": {
        "colab": {
          "base_uri": "https://localhost:8080/",
          "height": 395
        },
        "id": "6YHP_XvxYjKe",
        "outputId": "266605ea-c368-418c-8cd9-7bb7eda1833c"
      },
      "outputs": [
        {
          "data": {
            "image/png": "[encoded data removed]",
            "text/plain": [
              "<Figure size 600x400 with 1 Axes>"
            ]
          },
          "metadata": {},
          "output_type": "display_data"
        }
      ],
      "source": [
        "import matplotlib.pyplot as plt\n",
        "\n",
        "plt.figure(figsize=(6, 4))  # 추가 코드\n",
        "plt.plot(X_new, y_predict, \"r-\", label=\"Prediction\")\n",
        "plt.plot(X, y, \"b.\")\n",
        "\n",
        "# 추가 코드 - 그림 4-2를 꾸미고 저장합니다.\n",
        "plt.xlabel(\"$x_1$\")\n",
        "plt.ylabel(\"$y$\", rotation=0)\n",
        "plt.axis([0, 2, 0, 15])\n",
        "plt.grid()\n",
        "plt.legend(loc=\"upper left\")\n",
        "save_fig(\"linear_model_predictions_plot\")\n",
        "\n",
        "plt.show()"
      ]
    },
    {
      "cell_type": "code",
      "execution_count": 14,
      "metadata": {
        "colab": {
          "base_uri": "https://localhost:8080/"
        },
        "id": "WG1wJAWRYjKe",
        "outputId": "bb6b81d1-d48b-40f8-9abd-80c25d118fe4"
      },
      "outputs": [
        {
          "data": {
            "text/plain": [
              "(array([4.21509616]), array([[2.77011339]]))"
            ]
          },
          "execution_count": 14,
          "metadata": {},
          "output_type": "execute_result"
        }
      ],
      "source": [
        "from sklearn.linear_model import LinearRegression\n",
        "lin_reg = LinearRegression()\n",
        "lin_reg.fit(X, y) #훈련\n",
        "lin_reg.intercept_, lin_reg.coef_ #y 절편, 기울기"
      ]
    },
    {
      "cell_type": "code",
      "execution_count": 15,
      "metadata": {
        "colab": {
          "base_uri": "https://localhost:8080/"
        },
        "id": "MuGzw56MYjKe",
        "outputId": "8a26a605-2208-4a18-e2bd-5f2c876c28d3"
      },
      "outputs": [
        {
          "data": {
            "text/plain": [
              "array([[4.21509616],\n",
              "       [9.75532293]])"
            ]
          },
          "execution_count": 15,
          "metadata": {},
          "output_type": "execute_result"
        }
      ],
      "source": [
        "lin_reg.predict(X_new)"
      ]
    },
    {
      "cell_type": "markdown",
      "metadata": {
        "id": "nDen0KOVYjKf"
      },
      "source": [
        "`LinearRegression` 클래스는 `scipy.linalg.lstsq()` 함수(\"least squares\"의 약자)를 사용하므로 이 함수를 직접 사용할 수 있습니다:"
      ]
    },
    {
      "cell_type": "code",
      "execution_count": null,
      "metadata": {
        "colab": {
          "base_uri": "https://localhost:8080/"
        },
        "id": "VD4pxKapYjKf",
        "outputId": "c819be22-5df5-4432-cc06-5ccab1235fd7"
      },
      "outputs": [],
      "source": [
        "theta_best_svd, residuals, rank, s = np.linalg.lstsq(X_b, y, rcond=1e-6)\n",
        "theta_best_svd"
      ]
    },
    {
      "cell_type": "markdown",
      "metadata": {
        "id": "4Od-812LYjKf"
      },
      "source": [
        "이 함수는 $\\mathbf{X}^+\\mathbf{y}$을 계산합니다. $\\mathbf{X}^{+}$는 $\\mathbf{X}$의 _유사역행렬_ (pseudoinverse)입니다(Moore–Penrose 유사역행렬입니다). `np.linalg.pinv()`을 사용해서 유사역행렬을 직접 계산할 수 있습니다:"
      ]
    },
    {
      "cell_type": "code",
      "execution_count": 16,
      "metadata": {
        "colab": {
          "base_uri": "https://localhost:8080/"
        },
        "id": "q8agHrN0YjKf",
        "outputId": "5a74aa2e-63ac-43d5-cd98-ed33c327d5f0"
      },
      "outputs": [
        {
          "data": {
            "text/plain": [
              "array([[4.21509616],\n",
              "       [2.77011339]])"
            ]
          },
          "execution_count": 16,
          "metadata": {},
          "output_type": "execute_result"
        }
      ],
      "source": [
        "np.linalg.pinv(X_b) @ y"
      ]
    },
    {
      "cell_type": "markdown",
      "metadata": {
        "id": "Kh6Z5bblYjKf"
      },
      "source": [
        "# 4.2 경사 하강법\n",
        "\n",
        "## 4.2.1 배치 경사 하강법"
      ]
    },
    {
      "cell_type": "code",
      "execution_count": 17,
      "metadata": {
        "id": "d5nHnxWQYjKf"
      },
      "outputs": [],
      "source": [
        "eta = 0.1 # 학습률\n",
        "n_epochs = 1000\n",
        "m = len(X_b) # 샘플 개수\n",
        "\n",
        "\n",
        "np.random.seed(42)\n",
        "theta = np.random.randn(2,1) # 모델 파라미터를 랜덤하게 초기화합니다\n",
        "\n",
        "for epoch in range(n_epochs):\n",
        "    gradients = 2 / m * X_b.T @ (X_b @ theta - y)\n",
        "    theta = theta - eta * gradients"
      ]
    },
    {
      "cell_type": "markdown",
      "metadata": {
        "id": "3YSFBN0VYjKf"
      },
      "source": [
        "학습된 모델 파라미터:"
      ]
    },
    {
      "cell_type": "code",
      "execution_count": 18,
      "metadata": {
        "colab": {
          "base_uri": "https://localhost:8080/"
        },
        "id": "SNuyyyHaYjKf",
        "outputId": "b59e7f22-2940-4d3e-aef1-837e24f76a2b"
      },
      "outputs": [
        {
          "data": {
            "text/plain": [
              "array([[4.21509616],\n",
              "       [2.77011339]])"
            ]
          },
          "execution_count": 18,
          "metadata": {},
          "output_type": "execute_result"
        }
      ],
      "source": [
        "theta"
      ]
    },
    {
      "cell_type": "code",
      "execution_count": null,
      "metadata": {
        "colab": {
          "base_uri": "https://localhost:8080/",
          "height": 395
        },
        "id": "vuK8oxYtYjKf",
        "outputId": "64f4eda6-96e7-41d3-ccb3-2bda09170198"
      },
      "outputs": [],
      "source": [
        "# 추가 코드 - 그림 4-8을 생성하고 저장합니다.\n",
        "\n",
        "import matplotlib as mpl\n",
        "\n",
        "def plot_gradient_descent(theta, eta):\n",
        "    m = len(X_b)\n",
        "    plt.plot(X, y, \"b.\")\n",
        "    n_epochs = 1000\n",
        "    n_shown = 20\n",
        "    theta_path = []\n",
        "    for epoch in range(n_epochs):\n",
        "        if epoch < n_shown:\n",
        "            y_predict = X_new_b @ theta\n",
        "            color = mpl.colors.rgb2hex(plt.cm.OrRd(epoch / n_shown + 0.15))\n",
        "            plt.plot(X_new, y_predict, linestyle=\"solid\", color=color)\n",
        "        gradients = 2 / m * X_b.T @ (X_b @ theta - y)\n",
        "        theta = theta - eta * gradients\n",
        "        theta_path.append(theta)\n",
        "    plt.xlabel(\"$x_1$\")\n",
        "    plt.axis([0, 2, 0, 15])\n",
        "    plt.grid()\n",
        "    plt.title(fr\"$\\eta = {eta}$\")\n",
        "    return theta_path\n",
        "\n",
        "np.random.seed(42)\n",
        "theta = np.random.randn(2, 1)  # 랜덤 초기화\n",
        "\n",
        "plt.figure(figsize=(10, 4))\n",
        "plt.subplot(131)\n",
        "plot_gradient_descent(theta, eta=0.02) #1\n",
        "plt.ylabel(\"$y$\", rotation=0)\n",
        "plt.subplot(132)\n",
        "theta_path_bgd = plot_gradient_descent(theta, eta=0.1) #2\n",
        "plt.gca().axes.yaxis.set_ticklabels([])\n",
        "plt.subplot(133)\n",
        "plt.gca().axes.yaxis.set_ticklabels([])\n",
        "plot_gradient_descent(theta, eta=0.5) #3\n",
        "save_fig(\"gradient_descent_plot\")\n",
        "plt.show()"
      ]
    },
    {
      "cell_type": "markdown",
      "metadata": {
        "id": "R4xoKxEqYjKg"
      },
      "source": [
        "## 4.2.2 확률적 경사 하강법"
      ]
    },
    {
      "cell_type": "code",
      "execution_count": 19,
      "metadata": {
        "id": "Rj9mtfWiYjKg"
      },
      "outputs": [],
      "source": [
        "theta_path_sgd = []  # 추가 코드 - 다음 그림을 그리기 위해 매개변수 공간에서 theta의 경로를 저장합니다."
      ]
    },
    {
      "cell_type": "code",
      "execution_count": null,
      "metadata": {
        "colab": {
          "base_uri": "https://localhost:8080/",
          "height": 395
        },
        "id": "UqnEtjEdYjKg",
        "outputId": "0e5f57c5-c255-439c-9f8f-c6988729eb0d"
      },
      "outputs": [],
      "source": [
        "n_epochs = 50\n",
        "t0, t1 = 5, 50 # 학습 스케줄 하이퍼파라미터\n",
        "\n",
        "\n",
        "def learning_schedule(t):\n",
        "    return t0 / (t + t1)\n",
        "\n",
        "np.random.seed(42)\n",
        "theta = np.random.randn(2,1) # 랜덤 초기화\n",
        "\n",
        "n_shown = 20  # 추가 코드 - 아래 그림을 생성하는 데만 필요합니다.\n",
        "plt.figure(figsize=(6, 4))  # 추가 코드\n",
        "\n",
        "for epoch in range(n_epochs):\n",
        "    for iteration in range(m):\n",
        "        random_index = np.random.randint(m)\n",
        "        xi = X_b[random_index:random_index +1]\n",
        "        yi = y[random_index:random_index +1]\n",
        "\n",
        "      \n",
        "\n",
        "        # 추가 코드 - 이 네 라인은 그림을 생성하는 데 사용됩니다.\n",
        "        if epoch == 0 and iteration < n_shown:\n",
        "            y_predict = X_new_b @ theta\n",
        "            color = mpl.colors.rgb2hex(plt.cm.OrRd(iteration / n_shown + 0.15))\n",
        "            plt.plot(X_new, y_predict, color=color)\n",
        "\n",
        "        gradients = 2 * xi.T @ (xi @ theta - yi)  # SGD의 경우 m으로 나누지 않습니다\n",
        "        eta = learning_schedule(epoch * m + iteration) # 0.33, iter2 = \n",
        "        theta = theta - eta * gradients\n",
        "        theta_path_sgd.append(theta)  # 추가 코드 - 그림을 생성하기 위해\n",
        "\n",
        "# 추가 코드 - 이 섹션은 그림 4-10을 꾸미고 저장합니다.\n",
        "plt.plot(X, y, \"b.\")\n",
        "plt.xlabel(\"$x_1$\")\n",
        "plt.ylabel(\"$y$\", rotation=0)\n",
        "plt.axis([0, 2, 0, 15])\n",
        "plt.grid()\n",
        "save_fig(\"sgd_plot\")\n",
        "plt.show()"
      ]
    },
    {
      "cell_type": "code",
      "execution_count": null,
      "metadata": {
        "colab": {
          "base_uri": "https://localhost:8080/"
        },
        "id": "c5UFiKwAYjKg",
        "outputId": "714f803d-7de5-4e5b-b3e3-7868034f95ca",
        "scrolled": true
      },
      "outputs": [],
      "source": [
        "theta"
      ]
    },
    {
      "cell_type": "code",
      "execution_count": 20,
      "metadata": {
        "colab": {
          "base_uri": "https://localhost:8080/",
          "height": 75
        },
        "id": "YHu7PfN7YjKg",
        "outputId": "ebe438ca-b728-41d6-81d7-966f19d31a06"
      },
      "outputs": [
        {
          "data": {
            "text/html": [
              "<style>#sk-container-id-1 {\n",
              "  /* Definition of color scheme common for light and dark mode */\n",
              "  --sklearn-color-text: black;\n",
              "  --sklearn-color-line: gray;\n",
              "  /* Definition of color scheme for unfitted estimators */\n",
              "  --sklearn-color-unfitted-level-0: #fff5e6;\n",
              "  --sklearn-color-unfitted-level-1: #f6e4d2;\n",
              "  --sklearn-color-unfitted-level-2: #ffe0b3;\n",
              "  --sklearn-color-unfitted-level-3: chocolate;\n",
              "  /* Definition of color scheme for fitted estimators */\n",
              "  --sklearn-color-fitted-level-0: #f0f8ff;\n",
              "  --sklearn-color-fitted-level-1: #d4ebff;\n",
              "  --sklearn-color-fitted-level-2: #b3dbfd;\n",
              "  --sklearn-color-fitted-level-3: cornflowerblue;\n",
              "\n",
              "  /* Specific color for light theme */\n",
              "  --sklearn-color-text-on-default-background: var(--sg-text-color, var(--theme-code-foreground, var(--jp-content-font-color1, black)));\n",
              "  --sklearn-color-background: var(--sg-background-color, var(--theme-background, var(--jp-layout-color0, white)));\n",
              "  --sklearn-color-border-box: var(--sg-text-color, var(--theme-code-foreground, var(--jp-content-font-color1, black)));\n",
              "  --sklearn-color-icon: #696969;\n",
              "\n",
              "  @media (prefers-color-scheme: dark) {\n",
              "    /* Redefinition of color scheme for dark theme */\n",
              "    --sklearn-color-text-on-default-background: var(--sg-text-color, var(--theme-code-foreground, var(--jp-content-font-color1, white)));\n",
              "    --sklearn-color-background: var(--sg-background-color, var(--theme-background, var(--jp-layout-color0, #111)));\n",
              "    --sklearn-color-border-box: var(--sg-text-color, var(--theme-code-foreground, var(--jp-content-font-color1, white)));\n",
              "    --sklearn-color-icon: #878787;\n",
              "  }\n",
              "}\n",
              "\n",
              "#sk-container-id-1 {\n",
              "  color: var(--sklearn-color-text);\n",
              "}\n",
              "\n",
              "#sk-container-id-1 pre {\n",
              "  padding: 0;\n",
              "}\n",
              "\n",
              "#sk-container-id-1 input.sk-hidden--visually {\n",
              "  border: 0;\n",
              "  clip: rect(1px 1px 1px 1px);\n",
              "  clip: rect(1px, 1px, 1px, 1px);\n",
              "  height: 1px;\n",
              "  margin: -1px;\n",
              "  overflow: hidden;\n",
              "  padding: 0;\n",
              "  position: absolute;\n",
              "  width: 1px;\n",
              "}\n",
              "\n",
              "#sk-container-id-1 div.sk-dashed-wrapped {\n",
              "  border: 1px dashed var(--sklearn-color-line);\n",
              "  margin: 0 0.4em 0.5em 0.4em;\n",
              "  box-sizing: border-box;\n",
              "  padding-bottom: 0.4em;\n",
              "  background-color: var(--sklearn-color-background);\n",
              "}\n",
              "\n",
              "#sk-container-id-1 div.sk-container {\n",
              "  /* jupyter's `normalize.less` sets `[hidden] { display: none; }`\n",
              "     but bootstrap.min.css set `[hidden] { display: none !important; }`\n",
              "     so we also need the `!important` here to be able to override the\n",
              "     default hidden behavior on the sphinx rendered scikit-learn.org.\n",
              "     See: https://github.com/scikit-learn/scikit-learn/issues/21755 */\n",
              "  display: inline-block !important;\n",
              "  position: relative;\n",
              "}\n",
              "\n",
              "#sk-container-id-1 div.sk-text-repr-fallback {\n",
              "  display: none;\n",
              "}\n",
              "\n",
              "div.sk-parallel-item,\n",
              "div.sk-serial,\n",
              "div.sk-item {\n",
              "  /* draw centered vertical line to link estimators */\n",
              "  background-image: linear-gradient(var(--sklearn-color-text-on-default-background), var(--sklearn-color-text-on-default-background));\n",
              "  background-size: 2px 100%;\n",
              "  background-repeat: no-repeat;\n",
              "  background-position: center center;\n",
              "}\n",
              "\n",
              "/* Parallel-specific style estimator block */\n",
              "\n",
              "#sk-container-id-1 div.sk-parallel-item::after {\n",
              "  content: \"\";\n",
              "  width: 100%;\n",
              "  border-bottom: 2px solid var(--sklearn-color-text-on-default-background);\n",
              "  flex-grow: 1;\n",
              "}\n",
              "\n",
              "#sk-container-id-1 div.sk-parallel {\n",
              "  display: flex;\n",
              "  align-items: stretch;\n",
              "  justify-content: center;\n",
              "  background-color: var(--sklearn-color-background);\n",
              "  position: relative;\n",
              "}\n",
              "\n",
              "#sk-container-id-1 div.sk-parallel-item {\n",
              "  display: flex;\n",
              "  flex-direction: column;\n",
              "}\n",
              "\n",
              "#sk-container-id-1 div.sk-parallel-item:first-child::after {\n",
              "  align-self: flex-end;\n",
              "  width: 50%;\n",
              "}\n",
              "\n",
              "#sk-container-id-1 div.sk-parallel-item:last-child::after {\n",
              "  align-self: flex-start;\n",
              "  width: 50%;\n",
              "}\n",
              "\n",
              "#sk-container-id-1 div.sk-parallel-item:only-child::after {\n",
              "  width: 0;\n",
              "}\n",
              "\n",
              "/* Serial-specific style estimator block */\n",
              "\n",
              "#sk-container-id-1 div.sk-serial {\n",
              "  display: flex;\n",
              "  flex-direction: column;\n",
              "  align-items: center;\n",
              "  background-color: var(--sklearn-color-background);\n",
              "  padding-right: 1em;\n",
              "  padding-left: 1em;\n",
              "}\n",
              "\n",
              "\n",
              "/* Toggleable style: style used for estimator/Pipeline/ColumnTransformer box that is\n",
              "clickable and can be expanded/collapsed.\n",
              "- Pipeline and ColumnTransformer use this feature and define the default style\n",
              "- Estimators will overwrite some part of the style using the `sk-estimator` class\n",
              "*/\n",
              "\n",
              "/* Pipeline and ColumnTransformer style (default) */\n",
              "\n",
              "#sk-container-id-1 div.sk-toggleable {\n",
              "  /* Default theme specific background. It is overwritten whether we have a\n",
              "  specific estimator or a Pipeline/ColumnTransformer */\n",
              "  background-color: var(--sklearn-color-background);\n",
              "}\n",
              "\n",
              "/* Toggleable label */\n",
              "#sk-container-id-1 label.sk-toggleable__label {\n",
              "  cursor: pointer;\n",
              "  display: block;\n",
              "  width: 100%;\n",
              "  margin-bottom: 0;\n",
              "  padding: 0.5em;\n",
              "  box-sizing: border-box;\n",
              "  text-align: center;\n",
              "}\n",
              "\n",
              "#sk-container-id-1 label.sk-toggleable__label-arrow:before {\n",
              "  /* Arrow on the left of the label */\n",
              "  content: \"▸\";\n",
              "  float: left;\n",
              "  margin-right: 0.25em;\n",
              "  color: var(--sklearn-color-icon);\n",
              "}\n",
              "\n",
              "#sk-container-id-1 label.sk-toggleable__label-arrow:hover:before {\n",
              "  color: var(--sklearn-color-text);\n",
              "}\n",
              "\n",
              "/* Toggleable content - dropdown */\n",
              "\n",
              "#sk-container-id-1 div.sk-toggleable__content {\n",
              "  max-height: 0;\n",
              "  max-width: 0;\n",
              "  overflow: hidden;\n",
              "  text-align: left;\n",
              "  /* unfitted */\n",
              "  background-color: var(--sklearn-color-unfitted-level-0);\n",
              "}\n",
              "\n",
              "#sk-container-id-1 div.sk-toggleable__content.fitted {\n",
              "  /* fitted */\n",
              "  background-color: var(--sklearn-color-fitted-level-0);\n",
              "}\n",
              "\n",
              "#sk-container-id-1 div.sk-toggleable__content pre {\n",
              "  margin: 0.2em;\n",
              "  border-radius: 0.25em;\n",
              "  color: var(--sklearn-color-text);\n",
              "  /* unfitted */\n",
              "  background-color: var(--sklearn-color-unfitted-level-0);\n",
              "}\n",
              "\n",
              "#sk-container-id-1 div.sk-toggleable__content.fitted pre {\n",
              "  /* unfitted */\n",
              "  background-color: var(--sklearn-color-fitted-level-0);\n",
              "}\n",
              "\n",
              "#sk-container-id-1 input.sk-toggleable__control:checked~div.sk-toggleable__content {\n",
              "  /* Expand drop-down */\n",
              "  max-height: 200px;\n",
              "  max-width: 100%;\n",
              "  overflow: auto;\n",
              "}\n",
              "\n",
              "#sk-container-id-1 input.sk-toggleable__control:checked~label.sk-toggleable__label-arrow:before {\n",
              "  content: \"▾\";\n",
              "}\n",
              "\n",
              "/* Pipeline/ColumnTransformer-specific style */\n",
              "\n",
              "#sk-container-id-1 div.sk-label input.sk-toggleable__control:checked~label.sk-toggleable__label {\n",
              "  color: var(--sklearn-color-text);\n",
              "  background-color: var(--sklearn-color-unfitted-level-2);\n",
              "}\n",
              "\n",
              "#sk-container-id-1 div.sk-label.fitted input.sk-toggleable__control:checked~label.sk-toggleable__label {\n",
              "  background-color: var(--sklearn-color-fitted-level-2);\n",
              "}\n",
              "\n",
              "/* Estimator-specific style */\n",
              "\n",
              "/* Colorize estimator box */\n",
              "#sk-container-id-1 div.sk-estimator input.sk-toggleable__control:checked~label.sk-toggleable__label {\n",
              "  /* unfitted */\n",
              "  background-color: var(--sklearn-color-unfitted-level-2);\n",
              "}\n",
              "\n",
              "#sk-container-id-1 div.sk-estimator.fitted input.sk-toggleable__control:checked~label.sk-toggleable__label {\n",
              "  /* fitted */\n",
              "  background-color: var(--sklearn-color-fitted-level-2);\n",
              "}\n",
              "\n",
              "#sk-container-id-1 div.sk-label label.sk-toggleable__label,\n",
              "#sk-container-id-1 div.sk-label label {\n",
              "  /* The background is the default theme color */\n",
              "  color: var(--sklearn-color-text-on-default-background);\n",
              "}\n",
              "\n",
              "/* On hover, darken the color of the background */\n",
              "#sk-container-id-1 div.sk-label:hover label.sk-toggleable__label {\n",
              "  color: var(--sklearn-color-text);\n",
              "  background-color: var(--sklearn-color-unfitted-level-2);\n",
              "}\n",
              "\n",
              "/* Label box, darken color on hover, fitted */\n",
              "#sk-container-id-1 div.sk-label.fitted:hover label.sk-toggleable__label.fitted {\n",
              "  color: var(--sklearn-color-text);\n",
              "  background-color: var(--sklearn-color-fitted-level-2);\n",
              "}\n",
              "\n",
              "/* Estimator label */\n",
              "\n",
              "#sk-container-id-1 div.sk-label label {\n",
              "  font-family: monospace;\n",
              "  font-weight: bold;\n",
              "  display: inline-block;\n",
              "  line-height: 1.2em;\n",
              "}\n",
              "\n",
              "#sk-container-id-1 div.sk-label-container {\n",
              "  text-align: center;\n",
              "}\n",
              "\n",
              "/* Estimator-specific */\n",
              "#sk-container-id-1 div.sk-estimator {\n",
              "  font-family: monospace;\n",
              "  border: 1px dotted var(--sklearn-color-border-box);\n",
              "  border-radius: 0.25em;\n",
              "  box-sizing: border-box;\n",
              "  margin-bottom: 0.5em;\n",
              "  /* unfitted */\n",
              "  background-color: var(--sklearn-color-unfitted-level-0);\n",
              "}\n",
              "\n",
              "#sk-container-id-1 div.sk-estimator.fitted {\n",
              "  /* fitted */\n",
              "  background-color: var(--sklearn-color-fitted-level-0);\n",
              "}\n",
              "\n",
              "/* on hover */\n",
              "#sk-container-id-1 div.sk-estimator:hover {\n",
              "  /* unfitted */\n",
              "  background-color: var(--sklearn-color-unfitted-level-2);\n",
              "}\n",
              "\n",
              "#sk-container-id-1 div.sk-estimator.fitted:hover {\n",
              "  /* fitted */\n",
              "  background-color: var(--sklearn-color-fitted-level-2);\n",
              "}\n",
              "\n",
              "/* Specification for estimator info (e.g. \"i\" and \"?\") */\n",
              "\n",
              "/* Common style for \"i\" and \"?\" */\n",
              "\n",
              ".sk-estimator-doc-link,\n",
              "a:link.sk-estimator-doc-link,\n",
              "a:visited.sk-estimator-doc-link {\n",
              "  float: right;\n",
              "  font-size: smaller;\n",
              "  line-height: 1em;\n",
              "  font-family: monospace;\n",
              "  background-color: var(--sklearn-color-background);\n",
              "  border-radius: 1em;\n",
              "  height: 1em;\n",
              "  width: 1em;\n",
              "  text-decoration: none !important;\n",
              "  margin-left: 1ex;\n",
              "  /* unfitted */\n",
              "  border: var(--sklearn-color-unfitted-level-1) 1pt solid;\n",
              "  color: var(--sklearn-color-unfitted-level-1);\n",
              "}\n",
              "\n",
              ".sk-estimator-doc-link.fitted,\n",
              "a:link.sk-estimator-doc-link.fitted,\n",
              "a:visited.sk-estimator-doc-link.fitted {\n",
              "  /* fitted */\n",
              "  border: var(--sklearn-color-fitted-level-1) 1pt solid;\n",
              "  color: var(--sklearn-color-fitted-level-1);\n",
              "}\n",
              "\n",
              "/* On hover */\n",
              "div.sk-estimator:hover .sk-estimator-doc-link:hover,\n",
              ".sk-estimator-doc-link:hover,\n",
              "div.sk-label-container:hover .sk-estimator-doc-link:hover,\n",
              ".sk-estimator-doc-link:hover {\n",
              "  /* unfitted */\n",
              "  background-color: var(--sklearn-color-unfitted-level-3);\n",
              "  color: var(--sklearn-color-background);\n",
              "  text-decoration: none;\n",
              "}\n",
              "\n",
              "div.sk-estimator.fitted:hover .sk-estimator-doc-link.fitted:hover,\n",
              ".sk-estimator-doc-link.fitted:hover,\n",
              "div.sk-label-container:hover .sk-estimator-doc-link.fitted:hover,\n",
              ".sk-estimator-doc-link.fitted:hover {\n",
              "  /* fitted */\n",
              "  background-color: var(--sklearn-color-fitted-level-3);\n",
              "  color: var(--sklearn-color-background);\n",
              "  text-decoration: none;\n",
              "}\n",
              "\n",
              "/* Span, style for the box shown on hovering the info icon */\n",
              ".sk-estimator-doc-link span {\n",
              "  display: none;\n",
              "  z-index: 9999;\n",
              "  position: relative;\n",
              "  font-weight: normal;\n",
              "  right: .2ex;\n",
              "  padding: .5ex;\n",
              "  margin: .5ex;\n",
              "  width: min-content;\n",
              "  min-width: 20ex;\n",
              "  max-width: 50ex;\n",
              "  color: var(--sklearn-color-text);\n",
              "  box-shadow: 2pt 2pt 4pt #999;\n",
              "  /* unfitted */\n",
              "  background: var(--sklearn-color-unfitted-level-0);\n",
              "  border: .5pt solid var(--sklearn-color-unfitted-level-3);\n",
              "}\n",
              "\n",
              ".sk-estimator-doc-link.fitted span {\n",
              "  /* fitted */\n",
              "  background: var(--sklearn-color-fitted-level-0);\n",
              "  border: var(--sklearn-color-fitted-level-3);\n",
              "}\n",
              "\n",
              ".sk-estimator-doc-link:hover span {\n",
              "  display: block;\n",
              "}\n",
              "\n",
              "/* \"?\"-specific style due to the `<a>` HTML tag */\n",
              "\n",
              "#sk-container-id-1 a.estimator_doc_link {\n",
              "  float: right;\n",
              "  font-size: 1rem;\n",
              "  line-height: 1em;\n",
              "  font-family: monospace;\n",
              "  background-color: var(--sklearn-color-background);\n",
              "  border-radius: 1rem;\n",
              "  height: 1rem;\n",
              "  width: 1rem;\n",
              "  text-decoration: none;\n",
              "  /* unfitted */\n",
              "  color: var(--sklearn-color-unfitted-level-1);\n",
              "  border: var(--sklearn-color-unfitted-level-1) 1pt solid;\n",
              "}\n",
              "\n",
              "#sk-container-id-1 a.estimator_doc_link.fitted {\n",
              "  /* fitted */\n",
              "  border: var(--sklearn-color-fitted-level-1) 1pt solid;\n",
              "  color: var(--sklearn-color-fitted-level-1);\n",
              "}\n",
              "\n",
              "/* On hover */\n",
              "#sk-container-id-1 a.estimator_doc_link:hover {\n",
              "  /* unfitted */\n",
              "  background-color: var(--sklearn-color-unfitted-level-3);\n",
              "  color: var(--sklearn-color-background);\n",
              "  text-decoration: none;\n",
              "}\n",
              "\n",
              "#sk-container-id-1 a.estimator_doc_link.fitted:hover {\n",
              "  /* fitted */\n",
              "  background-color: var(--sklearn-color-fitted-level-3);\n",
              "}\n",
              "</style><div id=\"sk-container-id-1\" class=\"sk-top-container\"><div class=\"sk-text-repr-fallback\"><pre>SGDRegressor(n_iter_no_change=100, penalty=None, random_state=42, tol=1e-05)</pre><b>In a Jupyter environment, please rerun this cell to show the HTML representation or trust the notebook. <br />On GitHub, the HTML representation is unable to render, please try loading this page with nbviewer.org.</b></div><div class=\"sk-container\" hidden><div class=\"sk-item\"><div class=\"sk-estimator fitted sk-toggleable\"><input class=\"sk-toggleable__control sk-hidden--visually\" id=\"sk-estimator-id-1\" type=\"checkbox\" checked><label for=\"sk-estimator-id-1\" class=\"sk-toggleable__label fitted sk-toggleable__label-arrow fitted\">&nbsp;&nbsp;SGDRegressor<a class=\"sk-estimator-doc-link fitted\" rel=\"noreferrer\" target=\"_blank\" href=\"https://scikit-learn.org/1.5/modules/generated/sklearn.linear_model.SGDRegressor.html\">?<span>Documentation for SGDRegressor</span></a><span class=\"sk-estimator-doc-link fitted\">i<span>Fitted</span></span></label><div class=\"sk-toggleable__content fitted\"><pre>SGDRegressor(n_iter_no_change=100, penalty=None, random_state=42, tol=1e-05)</pre></div> </div></div></div></div>"
            ],
            "text/plain": [
              "SGDRegressor(n_iter_no_change=100, penalty=None, random_state=42, tol=1e-05)"
            ]
          },
          "execution_count": 20,
          "metadata": {},
          "output_type": "execute_result"
        }
      ],
      "source": [
        "from sklearn.linear_model import SGDRegressor\n",
        "sgd_reg = SGDRegressor(\n",
        "    max_iter = 1000,\n",
        "    tol = 1e-5, # 10^-5\n",
        "    penalty = None,\n",
        "    eta0 = 0.01,\n",
        "    n_iter_no_change = 100,\n",
        "    random_state = 42\n",
        ")  \n",
        "\n",
        "sgd_reg.fit(X, y.ravel()) # fit()이 1D 타깃을 기대하기 때문에 y.ravel()로 씁니다"
      ]
    },
    {
      "cell_type": "code",
      "execution_count": null,
      "metadata": {
        "colab": {
          "base_uri": "https://localhost:8080/"
        },
        "id": "b7F7TQIrYjKg",
        "outputId": "8602719c-6434-435c-dc87-e8930603c707"
      },
      "outputs": [],
      "source": [
        "sgd_reg.intercept_, sgd_reg.coef_"
      ]
    },
    {
      "cell_type": "markdown",
      "metadata": {
        "id": "-x3SEzHyYjKg"
      },
      "source": [
        "## 4.2.3 미니배치 경사 하강법"
      ]
    },
    {
      "cell_type": "markdown",
      "metadata": {
        "id": "292COBNQYjKg"
      },
      "source": [
        "이 섹션의 코드는 다음 그림을 생성하는 데 사용되며 책에는 나와 있지 않습니다."
      ]
    },
    {
      "cell_type": "code",
      "execution_count": null,
      "metadata": {
        "colab": {
          "base_uri": "https://localhost:8080/",
          "height": 395
        },
        "id": "z1CaEtJUYjKk",
        "outputId": "b474ba0a-0763-47b0-fbae-2691ffd5e308"
      },
      "outputs": [],
      "source": [
        "# 추가 코드 - 이 셀은 그림 4-11을 생성하고 저장합니다.\n",
        "\n",
        "from math import ceil\n",
        "\n",
        "n_epochs = 50\n",
        "minibatch_size = 20\n",
        "n_batches_per_epoch = ceil(m / minibatch_size)\n",
        "\n",
        "np.random.seed(42)\n",
        "theta = np.random.randn(2, 1)  # 랜덤 초기화\n",
        "\n",
        "t0, t1 = 200, 1000  # 학습 스케줄 하이퍼파라미터\n",
        "\n",
        "def learning_schedule(t):\n",
        "    return t0 / (t + t1)\n",
        "\n",
        "theta_path_mgd = []\n",
        "for epoch in range(n_epochs):\n",
        "    shuffled_indices = np.random.permutation(m)\n",
        "    X_b_shuffled = X_b[shuffled_indices]\n",
        "    y_shuffled = y[shuffled_indices]\n",
        "    for iteration in range(0, n_batches_per_epoch):\n",
        "        idx = iteration * minibatch_size\n",
        "        xi = X_b_shuffled[idx : idx + minibatch_size]\n",
        "        yi = y_shuffled[idx : idx + minibatch_size]\n",
        "        gradients = 2 / minibatch_size * xi.T @ (xi @ theta - yi)\n",
        "        eta = learning_schedule(iteration)\n",
        "        theta = theta - eta * gradients\n",
        "        theta_path_mgd.append(theta)\n",
        "\n",
        "theta_path_bgd = np.array(theta_path_bgd)\n",
        "theta_path_sgd = np.array(theta_path_sgd)\n",
        "theta_path_mgd = np.array(theta_path_mgd)\n",
        "\n",
        "plt.figure(figsize=(7, 4))\n",
        "plt.plot(theta_path_sgd[:, 0], theta_path_sgd[:, 1], \"r-s\", linewidth=1,\n",
        "         label=\"Stochastic\")\n",
        "plt.plot(theta_path_mgd[:, 0], theta_path_mgd[:, 1], \"g-+\", linewidth=2,\n",
        "         label=\"Mini-batch\")\n",
        "plt.plot(theta_path_bgd[:, 0], theta_path_bgd[:, 1], \"b-o\", linewidth=3,\n",
        "         label=\"Batch\")\n",
        "plt.legend(loc=\"upper left\")\n",
        "plt.xlabel(r\"$\\theta_0$\")\n",
        "plt.ylabel(r\"$\\theta_1$   \", rotation=0)\n",
        "plt.axis([2.6, 4.6, 2.3, 3.4])\n",
        "plt.grid()\n",
        "save_fig(\"gradient_descent_paths_plot\")\n",
        "plt.show()"
      ]
    },
    {
      "cell_type": "markdown",
      "metadata": {
        "id": "vjSfou26YjKk"
      },
      "source": [
        "# 4.3 다항 회귀"
      ]
    },
    {
      "cell_type": "code",
      "execution_count": 21,
      "metadata": {
        "id": "CxSFysEMYjKk"
      },
      "outputs": [
        {
          "ename": "TypeError",
          "evalue": "random() takes at most 1 positional argument (2 given)",
          "output_type": "error",
          "traceback": [
            "\u001b[0;31m---------------------------------------------------------------------------\u001b[0m",
            "\u001b[0;31mTypeError\u001b[0m                                 Traceback (most recent call last)",
            "Cell \u001b[0;32mIn[21], line 4\u001b[0m\n\u001b[1;32m      2\u001b[0m m \u001b[38;5;241m=\u001b[39m \u001b[38;5;241m100\u001b[39m\n\u001b[1;32m      3\u001b[0m X \u001b[38;5;241m=\u001b[39m \u001b[38;5;241m6\u001b[39m \u001b[38;5;241m*\u001b[39m np\u001b[38;5;241m.\u001b[39mrandom\u001b[38;5;241m.\u001b[39mrand(m,\u001b[38;5;241m1\u001b[39m) \u001b[38;5;241m-\u001b[39m \u001b[38;5;241m3\u001b[39m\n\u001b[0;32m----> 4\u001b[0m y \u001b[38;5;241m=\u001b[39m \u001b[38;5;241m0.5\u001b[39m \u001b[38;5;241m*\u001b[39m X \u001b[38;5;241m*\u001b[39m\u001b[38;5;241m*\u001b[39m \u001b[38;5;241m2\u001b[39m \u001b[38;5;241m+\u001b[39m X \u001b[38;5;241m+\u001b[39m \u001b[38;5;241m2\u001b[39m \u001b[38;5;241m+\u001b[39m \u001b[43mnp\u001b[49m\u001b[38;5;241;43m.\u001b[39;49m\u001b[43mrandom\u001b[49m\u001b[38;5;241;43m.\u001b[39;49m\u001b[43mrandom\u001b[49m\u001b[43m(\u001b[49m\u001b[43mm\u001b[49m\u001b[43m,\u001b[49m\u001b[43m \u001b[49m\u001b[38;5;241;43m1\u001b[39;49m\u001b[43m)\u001b[49m\n",
            "File \u001b[0;32mnumpy/random/mtrand.pyx:443\u001b[0m, in \u001b[0;36mnumpy.random.mtrand.RandomState.random\u001b[0;34m()\u001b[0m\n",
            "\u001b[0;31mTypeError\u001b[0m: random() takes at most 1 positional argument (2 given)"
          ]
        }
      ],
      "source": [
        "np.random.seed(42)\n",
        "m = 100\n",
        "X = 6 * np.random.rand(m,1) - 3\n",
        "y = 0.5 * X ** 2 + X + 2 + np.random.random(m, 1)"
      ]
    },
    {
      "cell_type": "code",
      "execution_count": 22,
      "metadata": {
        "colab": {
          "base_uri": "https://localhost:8080/",
          "height": 395
        },
        "id": "vt0N5_sFYjKl",
        "outputId": "b997b9eb-0146-4446-dcd0-d4baeeaa58d9"
      },
      "outputs": [
        {
          "data": {
            "image/png": "[encoded data removed]",
            "text/plain": [
              "<Figure size 600x400 with 1 Axes>"
            ]
          },
          "metadata": {},
          "output_type": "display_data"
        }
      ],
      "source": [
        "# 추가 코드 - 이 셀은 그림 4-12를 생성하고 저장합니다.\n",
        "plt.figure(figsize=(6, 4))\n",
        "plt.plot(X, y, \"b.\")\n",
        "plt.xlabel(\"$x_1$\")\n",
        "plt.ylabel(\"$y$\", rotation=0)\n",
        "plt.axis([-3, 3, 0, 10])\n",
        "plt.grid()\n",
        "save_fig(\"quadratic_data_plot\")\n",
        "plt.show()"
      ]
    },
    {
      "cell_type": "code",
      "execution_count": 23,
      "metadata": {
        "colab": {
          "base_uri": "https://localhost:8080/"
        },
        "id": "-1bUXrrUYjKl",
        "outputId": "648216b9-fda1-405e-f8de-dce0c4a3f448"
      },
      "outputs": [
        {
          "data": {
            "text/plain": [
              "array([-0.75275929])"
            ]
          },
          "execution_count": 23,
          "metadata": {},
          "output_type": "execute_result"
        }
      ],
      "source": [
        "\n",
        "X[0]"
      ]
    },
    {
      "cell_type": "code",
      "execution_count": 25,
      "metadata": {
        "colab": {
          "base_uri": "https://localhost:8080/"
        },
        "id": "-zr9v_wVYjKl",
        "outputId": "507d552a-1685-4bf5-d797-53f1573915ad"
      },
      "outputs": [
        {
          "data": {
            "text/plain": [
              "array([-0.75275929,  0.56664654])"
            ]
          },
          "execution_count": 25,
          "metadata": {},
          "output_type": "execute_result"
        }
      ],
      "source": [
        "from sklearn.preprocessing import PolynomialFeatures\n",
        "poly_features = PolynomialFeatures(degree=2, include_bias=False)\n",
        "X_poly = poly_features.fit_transform(X)\n",
        "\n",
        "X_poly[0]"
      ]
    },
    {
      "cell_type": "code",
      "execution_count": null,
      "metadata": {
        "colab": {
          "base_uri": "https://localhost:8080/"
        },
        "id": "_iQMPN_xYjKl",
        "outputId": "0a524817-c8ff-4a74-a7fa-559f66c12812"
      },
      "outputs": [],
      "source": [
        "# lin_reg = ...\n",
        "lin_reg = LinearRegression"
      ]
    },
    {
      "cell_type": "code",
      "execution_count": 26,
      "metadata": {
        "colab": {
          "base_uri": "https://localhost:8080/",
          "height": 395
        },
        "id": "zQZanspsYjKl",
        "outputId": "6b8aa7e7-43f2-4cdb-adcb-daa698535f3a"
      },
      "outputs": [
        {
          "ename": "ValueError",
          "evalue": "X has 2 features, but LinearRegression is expecting 1 features as input.",
          "output_type": "error",
          "traceback": [
            "\u001b[0;31m---------------------------------------------------------------------------\u001b[0m",
            "\u001b[0;31mValueError\u001b[0m                                Traceback (most recent call last)",
            "Cell \u001b[0;32mIn[26], line 5\u001b[0m\n\u001b[1;32m      3\u001b[0m X_new \u001b[38;5;241m=\u001b[39m np\u001b[38;5;241m.\u001b[39mlinspace(\u001b[38;5;241m-\u001b[39m\u001b[38;5;241m3\u001b[39m, \u001b[38;5;241m3\u001b[39m, \u001b[38;5;241m100\u001b[39m)\u001b[38;5;241m.\u001b[39mreshape(\u001b[38;5;241m100\u001b[39m, \u001b[38;5;241m1\u001b[39m)\n\u001b[1;32m      4\u001b[0m X_new_poly \u001b[38;5;241m=\u001b[39m poly_features\u001b[38;5;241m.\u001b[39mtransform(X_new)\n\u001b[0;32m----> 5\u001b[0m y_new \u001b[38;5;241m=\u001b[39m \u001b[43mlin_reg\u001b[49m\u001b[38;5;241;43m.\u001b[39;49m\u001b[43mpredict\u001b[49m\u001b[43m(\u001b[49m\u001b[43mX_new_poly\u001b[49m\u001b[43m)\u001b[49m\n\u001b[1;32m      7\u001b[0m plt\u001b[38;5;241m.\u001b[39mfigure(figsize\u001b[38;5;241m=\u001b[39m(\u001b[38;5;241m6\u001b[39m, \u001b[38;5;241m4\u001b[39m))\n\u001b[1;32m      8\u001b[0m plt\u001b[38;5;241m.\u001b[39mplot(X, y, \u001b[38;5;124m\"\u001b[39m\u001b[38;5;124mb.\u001b[39m\u001b[38;5;124m\"\u001b[39m)\n",
            "File \u001b[0;32m~/.local/lib/python3.12/site-packages/sklearn/linear_model/_base.py:306\u001b[0m, in \u001b[0;36mLinearModel.predict\u001b[0;34m(self, X)\u001b[0m\n\u001b[1;32m    292\u001b[0m \u001b[38;5;28;01mdef\u001b[39;00m \u001b[38;5;21mpredict\u001b[39m(\u001b[38;5;28mself\u001b[39m, X):\n\u001b[1;32m    293\u001b[0m \u001b[38;5;250m    \u001b[39m\u001b[38;5;124;03m\"\"\"\u001b[39;00m\n\u001b[1;32m    294\u001b[0m \u001b[38;5;124;03m    Predict using the linear model.\u001b[39;00m\n\u001b[1;32m    295\u001b[0m \n\u001b[0;32m   (...)\u001b[0m\n\u001b[1;32m    304\u001b[0m \u001b[38;5;124;03m        Returns predicted values.\u001b[39;00m\n\u001b[1;32m    305\u001b[0m \u001b[38;5;124;03m    \"\"\"\u001b[39;00m\n\u001b[0;32m--> 306\u001b[0m     \u001b[38;5;28;01mreturn\u001b[39;00m \u001b[38;5;28;43mself\u001b[39;49m\u001b[38;5;241;43m.\u001b[39;49m\u001b[43m_decision_function\u001b[49m\u001b[43m(\u001b[49m\u001b[43mX\u001b[49m\u001b[43m)\u001b[49m\n",
            "File \u001b[0;32m~/.local/lib/python3.12/site-packages/sklearn/linear_model/_base.py:285\u001b[0m, in \u001b[0;36mLinearModel._decision_function\u001b[0;34m(self, X)\u001b[0m\n\u001b[1;32m    282\u001b[0m \u001b[38;5;28;01mdef\u001b[39;00m \u001b[38;5;21m_decision_function\u001b[39m(\u001b[38;5;28mself\u001b[39m, X):\n\u001b[1;32m    283\u001b[0m     check_is_fitted(\u001b[38;5;28mself\u001b[39m)\n\u001b[0;32m--> 285\u001b[0m     X \u001b[38;5;241m=\u001b[39m \u001b[38;5;28;43mself\u001b[39;49m\u001b[38;5;241;43m.\u001b[39;49m\u001b[43m_validate_data\u001b[49m\u001b[43m(\u001b[49m\u001b[43mX\u001b[49m\u001b[43m,\u001b[49m\u001b[43m \u001b[49m\u001b[43maccept_sparse\u001b[49m\u001b[38;5;241;43m=\u001b[39;49m\u001b[43m[\u001b[49m\u001b[38;5;124;43m\"\u001b[39;49m\u001b[38;5;124;43mcsr\u001b[39;49m\u001b[38;5;124;43m\"\u001b[39;49m\u001b[43m,\u001b[49m\u001b[43m \u001b[49m\u001b[38;5;124;43m\"\u001b[39;49m\u001b[38;5;124;43mcsc\u001b[39;49m\u001b[38;5;124;43m\"\u001b[39;49m\u001b[43m,\u001b[49m\u001b[43m \u001b[49m\u001b[38;5;124;43m\"\u001b[39;49m\u001b[38;5;124;43mcoo\u001b[39;49m\u001b[38;5;124;43m\"\u001b[39;49m\u001b[43m]\u001b[49m\u001b[43m,\u001b[49m\u001b[43m \u001b[49m\u001b[43mreset\u001b[49m\u001b[38;5;241;43m=\u001b[39;49m\u001b[38;5;28;43;01mFalse\u001b[39;49;00m\u001b[43m)\u001b[49m\n\u001b[1;32m    286\u001b[0m     coef_ \u001b[38;5;241m=\u001b[39m \u001b[38;5;28mself\u001b[39m\u001b[38;5;241m.\u001b[39mcoef_\n\u001b[1;32m    287\u001b[0m     \u001b[38;5;28;01mif\u001b[39;00m coef_\u001b[38;5;241m.\u001b[39mndim \u001b[38;5;241m==\u001b[39m \u001b[38;5;241m1\u001b[39m:\n",
            "File \u001b[0;32m~/.local/lib/python3.12/site-packages/sklearn/base.py:654\u001b[0m, in \u001b[0;36mBaseEstimator._validate_data\u001b[0;34m(self, X, y, reset, validate_separately, cast_to_ndarray, **check_params)\u001b[0m\n\u001b[1;32m    651\u001b[0m     out \u001b[38;5;241m=\u001b[39m X, y\n\u001b[1;32m    653\u001b[0m \u001b[38;5;28;01mif\u001b[39;00m \u001b[38;5;129;01mnot\u001b[39;00m no_val_X \u001b[38;5;129;01mand\u001b[39;00m check_params\u001b[38;5;241m.\u001b[39mget(\u001b[38;5;124m\"\u001b[39m\u001b[38;5;124mensure_2d\u001b[39m\u001b[38;5;124m\"\u001b[39m, \u001b[38;5;28;01mTrue\u001b[39;00m):\n\u001b[0;32m--> 654\u001b[0m     \u001b[38;5;28;43mself\u001b[39;49m\u001b[38;5;241;43m.\u001b[39;49m\u001b[43m_check_n_features\u001b[49m\u001b[43m(\u001b[49m\u001b[43mX\u001b[49m\u001b[43m,\u001b[49m\u001b[43m \u001b[49m\u001b[43mreset\u001b[49m\u001b[38;5;241;43m=\u001b[39;49m\u001b[43mreset\u001b[49m\u001b[43m)\u001b[49m\n\u001b[1;32m    656\u001b[0m \u001b[38;5;28;01mreturn\u001b[39;00m out\n",
            "File \u001b[0;32m~/.local/lib/python3.12/site-packages/sklearn/base.py:443\u001b[0m, in \u001b[0;36mBaseEstimator._check_n_features\u001b[0;34m(self, X, reset)\u001b[0m\n\u001b[1;32m    440\u001b[0m     \u001b[38;5;28;01mreturn\u001b[39;00m\n\u001b[1;32m    442\u001b[0m \u001b[38;5;28;01mif\u001b[39;00m n_features \u001b[38;5;241m!=\u001b[39m \u001b[38;5;28mself\u001b[39m\u001b[38;5;241m.\u001b[39mn_features_in_:\n\u001b[0;32m--> 443\u001b[0m     \u001b[38;5;28;01mraise\u001b[39;00m \u001b[38;5;167;01mValueError\u001b[39;00m(\n\u001b[1;32m    444\u001b[0m         \u001b[38;5;124mf\u001b[39m\u001b[38;5;124m\"\u001b[39m\u001b[38;5;124mX has \u001b[39m\u001b[38;5;132;01m{\u001b[39;00mn_features\u001b[38;5;132;01m}\u001b[39;00m\u001b[38;5;124m features, but \u001b[39m\u001b[38;5;132;01m{\u001b[39;00m\u001b[38;5;28mself\u001b[39m\u001b[38;5;241m.\u001b[39m\u001b[38;5;18m__class__\u001b[39m\u001b[38;5;241m.\u001b[39m\u001b[38;5;18m__name__\u001b[39m\u001b[38;5;132;01m}\u001b[39;00m\u001b[38;5;124m \u001b[39m\u001b[38;5;124m\"\u001b[39m\n\u001b[1;32m    445\u001b[0m         \u001b[38;5;124mf\u001b[39m\u001b[38;5;124m\"\u001b[39m\u001b[38;5;124mis expecting \u001b[39m\u001b[38;5;132;01m{\u001b[39;00m\u001b[38;5;28mself\u001b[39m\u001b[38;5;241m.\u001b[39mn_features_in_\u001b[38;5;132;01m}\u001b[39;00m\u001b[38;5;124m features as input.\u001b[39m\u001b[38;5;124m\"\u001b[39m\n\u001b[1;32m    446\u001b[0m     )\n",
            "\u001b[0;31mValueError\u001b[0m: X has 2 features, but LinearRegression is expecting 1 features as input."
          ]
        }
      ],
      "source": [
        "# 추가 코드 - 이 셀은 그림 4-13을 생성하고 저장합니다.\n",
        "\n",
        "X_new = np.linspace(-3, 3, 100).reshape(100, 1)\n",
        "X_new_poly = poly_features.transform(X_new)\n",
        "y_new = lin_reg.predict(X_new_poly)\n",
        "\n",
        "plt.figure(figsize=(6, 4))\n",
        "plt.plot(X, y, \"b.\")\n",
        "plt.plot(X_new, y_new, \"r-\", linewidth=2, label=\"Predictions\")\n",
        "plt.xlabel(\"$x_1$\")\n",
        "plt.ylabel(\"$y$\", rotation=0)\n",
        "plt.legend(loc=\"upper left\")\n",
        "plt.axis([-3, 3, 0, 10])\n",
        "plt.grid()\n",
        "save_fig(\"quadratic_predictions_plot\")\n",
        "plt.show()"
      ]
    },
    {
      "cell_type": "code",
      "execution_count": null,
      "metadata": {
        "colab": {
          "base_uri": "https://localhost:8080/",
          "height": 395
        },
        "id": "W9zEU4RvYjKl",
        "outputId": "0e7c2a59-72cc-4576-a974-0199943f96a5"
      },
      "outputs": [],
      "source": [
        "# extra code – this cell generates and saves Figure 4–14\n",
        "\n",
        "from sklearn.preprocessing import StandardScaler\n",
        "from sklearn.pipeline import make_pipeline\n",
        "\n",
        "plt.figure(figsize=(6, 4))\n",
        "\n",
        "for style, width, degree in ((\"r-+\", 2, 1), (\"b--\", 2, 2), (\"g-\", 1, 300)):\n",
        "    polybig_features = PolynomialFeatures(degree=degree, include_bias=False)\n",
        "    std_scaler = StandardScaler()\n",
        "    lin_reg = LinearRegression()\n",
        "    polynomial_regression = make_pipeline(polybig_features, std_scaler, lin_reg)\n",
        "    polynomial_regression.fit(X, y)\n",
        "    y_newbig = polynomial_regression.predict(X_new)\n",
        "    label = f\"{degree} degree{'s' if degree > 1 else ''}\"\n",
        "    plt.plot(X_new, y_newbig, style, label=label, linewidth=width)\n",
        "\n",
        "plt.plot(X, y, \"b.\", linewidth=3)\n",
        "plt.legend(loc=\"upper left\")\n",
        "plt.xlabel(\"$x_1$\")\n",
        "plt.ylabel(\"$y$\", rotation=0)\n",
        "plt.axis([-3, 3, 0, 10])\n",
        "plt.grid()\n",
        "save_fig(\"high_degree_polynomials_plot\")\n",
        "plt.show()"
      ]
    },
    {
      "cell_type": "markdown",
      "metadata": {
        "id": "LB-_2aPYYjKm"
      },
      "source": [
        "# 4.4 학습 곡선"
      ]
    },
    {
      "cell_type": "code",
      "execution_count": null,
      "metadata": {
        "colab": {
          "base_uri": "https://localhost:8080/",
          "height": 395
        },
        "id": "iGmEonP-YjKm",
        "outputId": "15ff11ed-a030-4c1f-f890-c8d2d0c09407"
      },
      "outputs": [],
      "source": [
        "from sklearn.model_selection import learning_curve\n",
        "\n",
        "train_sizes, train_scores, valid_scores = learning_curve(\n",
        "    X, \n",
        "    Y, \n",
        "    train_sizes = np.linspace(0.01, 1.0, 40),\n",
        "    cv = 5,\n",
        "    scoring = \"neg_root_mean_squared_error\"\n",
        ")\n",
        "train_errors = -train_scores.mean(axis = 1)\n",
        "valid_errors = -valid_scores.mean(axis = 1)\n",
        "\n",
        "plt.figure(figsize=(6, 4))  # 추가 코드\n",
        "\n",
        "plt.plot(train_sizes, train_errors, \"r-+\", linewidth=2, label=\"Train\")\n",
        "plt.plot(train_sizes, valid_errors, \"b-+\", linewidth=3, label=\"Valid\")\n",
        "\n",
        "# 추가 코드 - 그림 4-15를 꾸미고 저장합니다.\n",
        "plt.xlabel(\"Training set size\")\n",
        "plt.ylabel(\"RMSE\")\n",
        "plt.grid()\n",
        "plt.legend(loc=\"upper right\")\n",
        "plt.axis([0, 80, 0, 2.5])\n",
        "save_fig(\"underfitting_learning_curves_plot\")\n",
        "\n",
        "plt.show()"
      ]
    },
    {
      "cell_type": "code",
      "execution_count": 29,
      "metadata": {
        "id": "By1Tit7TYjKm"
      },
      "outputs": [
        {
          "ename": "NameError",
          "evalue": "name 'learning_curve' is not defined",
          "output_type": "error",
          "traceback": [
            "\u001b[0;31m---------------------------------------------------------------------------\u001b[0m",
            "\u001b[0;31mNameError\u001b[0m                                 Traceback (most recent call last)",
            "Cell \u001b[0;32mIn[29], line 10\u001b[0m\n\u001b[1;32m      2\u001b[0m \u001b[38;5;28;01mfrom\u001b[39;00m \u001b[38;5;21;01msklearn\u001b[39;00m\u001b[38;5;21;01m.\u001b[39;00m\u001b[38;5;21;01mpipeline\u001b[39;00m \u001b[38;5;28;01mimport\u001b[39;00m make_pipeline\n\u001b[1;32m      3\u001b[0m polynomial_regression \u001b[38;5;241m=\u001b[39m make_pipeline(\n\u001b[1;32m      4\u001b[0m     PolynomialFeatures(\n\u001b[1;32m      5\u001b[0m         degree\u001b[38;5;241m=\u001b[39m\u001b[38;5;241m2\u001b[39m,\n\u001b[0;32m   (...)\u001b[0m\n\u001b[1;32m      8\u001b[0m     LinearRegression()\n\u001b[1;32m      9\u001b[0m )\n\u001b[0;32m---> 10\u001b[0m train_sizes, train_scores, valid_scores \u001b[38;5;241m=\u001b[39m \u001b[43mlearning_curve\u001b[49m(\n\u001b[1;32m     11\u001b[0m     polynomial_regression,\n\u001b[1;32m     12\u001b[0m     X, \n\u001b[1;32m     13\u001b[0m     y, \n\u001b[1;32m     14\u001b[0m     train_sizes \u001b[38;5;241m=\u001b[39m np\u001b[38;5;241m.\u001b[39mlinspace(\u001b[38;5;241m0.01\u001b[39m, \u001b[38;5;241m1.0\u001b[39m, \u001b[38;5;241m40\u001b[39m),\n\u001b[1;32m     15\u001b[0m     cv \u001b[38;5;241m=\u001b[39m \u001b[38;5;241m5\u001b[39m,\n\u001b[1;32m     16\u001b[0m     scoring \u001b[38;5;241m=\u001b[39m \u001b[38;5;124m\"\u001b[39m\u001b[38;5;124mneg_root_mean_squared_error\u001b[39m\u001b[38;5;124m\"\u001b[39m\n\u001b[1;32m     17\u001b[0m )\n",
            "\u001b[0;31mNameError\u001b[0m: name 'learning_curve' is not defined"
          ]
        }
      ],
      "source": [
        "# pipeline\n",
        "from sklearn.pipeline import make_pipeline\n",
        "polynomial_regression = make_pipeline(\n",
        "    PolynomialFeatures(\n",
        "        degree=2,\n",
        "        include_bias=False\n",
        "    ),\n",
        "    LinearRegression()\n",
        ")\n",
        "train_sizes, train_scores, valid_scores = learning_curve(\n",
        "    polynomial_regression,\n",
        "    X, \n",
        "    y, \n",
        "    train_sizes = np.linspace(0.01, 1.0, 40),\n",
        "    cv = 5,\n",
        "    scoring = \"neg_root_mean_squared_error\"\n",
        ")"
      ]
    },
    {
      "cell_type": "code",
      "execution_count": 30,
      "metadata": {
        "colab": {
          "base_uri": "https://localhost:8080/",
          "height": 395
        },
        "id": "9Nha7IX4YjKm",
        "outputId": "03b4d0e7-8e60-4f9b-9df6-7d6b2cc2be9e"
      },
      "outputs": [
        {
          "ename": "NameError",
          "evalue": "name 'train_scores' is not defined",
          "output_type": "error",
          "traceback": [
            "\u001b[0;31m---------------------------------------------------------------------------\u001b[0m",
            "\u001b[0;31mNameError\u001b[0m                                 Traceback (most recent call last)",
            "Cell \u001b[0;32mIn[30], line 3\u001b[0m\n\u001b[1;32m      1\u001b[0m \u001b[38;5;66;03m# 추가 코드 - 그림 4-16을 생성하고 저장합니다.\u001b[39;00m\n\u001b[0;32m----> 3\u001b[0m train_errors \u001b[38;5;241m=\u001b[39m \u001b[38;5;241m-\u001b[39m\u001b[43mtrain_scores\u001b[49m\u001b[38;5;241m.\u001b[39mmean(axis\u001b[38;5;241m=\u001b[39m\u001b[38;5;241m1\u001b[39m)\n\u001b[1;32m      4\u001b[0m valid_errors \u001b[38;5;241m=\u001b[39m \u001b[38;5;241m-\u001b[39mvalid_scores\u001b[38;5;241m.\u001b[39mmean(axis\u001b[38;5;241m=\u001b[39m\u001b[38;5;241m1\u001b[39m)\n\u001b[1;32m      6\u001b[0m plt\u001b[38;5;241m.\u001b[39mfigure(figsize\u001b[38;5;241m=\u001b[39m(\u001b[38;5;241m6\u001b[39m, \u001b[38;5;241m4\u001b[39m))\n",
            "\u001b[0;31mNameError\u001b[0m: name 'train_scores' is not defined"
          ]
        }
      ],
      "source": [
        "# 추가 코드 - 그림 4-16을 생성하고 저장합니다.\n",
        "\n",
        "train_errors = -train_scores.mean(axis=1)\n",
        "valid_errors = -valid_scores.mean(axis=1)\n",
        "\n",
        "plt.figure(figsize=(6, 4))\n",
        "plt.plot(train_sizes, train_errors, \"r-+\", linewidth=2, label=\"train\")\n",
        "plt.plot(train_sizes, valid_errors, \"b-\", linewidth=3, label=\"valid\")\n",
        "plt.legend(loc=\"upper right\")\n",
        "plt.xlabel(\"Training set size\")\n",
        "plt.ylabel(\"RMSE\")\n",
        "plt.grid()\n",
        "plt.axis([0, 80, 0, 2.5])\n",
        "save_fig(\"learning_curves_plot\")\n",
        "plt.show()"
      ]
    },
    {
      "cell_type": "markdown",
      "metadata": {
        "id": "38QktJfcYjKm"
      },
      "source": [
        "# 4.5 규제가 있는 선형 모델"
      ]
    },
    {
      "cell_type": "markdown",
      "metadata": {
        "id": "7CTpVGzcYjKm"
      },
      "source": [
        "## 4.5.1 릿지 회귀"
      ]
    },
    {
      "cell_type": "markdown",
      "metadata": {
        "id": "FXjbiN8vYjKm"
      },
      "source": [
        "매우 작고 잡음이 많은 선형 데이터셋을 생성해 보겠습니다:"
      ]
    },
    {
      "cell_type": "code",
      "execution_count": 34,
      "metadata": {
        "id": "CAcbg8fbYjKm"
      },
      "outputs": [],
      "source": [
        "# 추가 코드 - 이전에도 이러한 유형의 생성을 여러 번 수행한 적이 있습니다.\n",
        "np.random.seed(42)\n",
        "m = 20\n",
        "X = 3 * np.random.rand(m, 1)\n",
        "y = 1 + 0.5 * X + np.random.randn(m, 1) / 1.5\n",
        "X_new = np.linspace(0, 3, 100).reshape(100, 1)"
      ]
    },
    {
      "cell_type": "code",
      "execution_count": null,
      "metadata": {
        "colab": {
          "base_uri": "https://localhost:8080/",
          "height": 398
        },
        "id": "ynbjntR7YjKm",
        "outputId": "8b5cc2ef-1f50-4d4c-d3bd-a48fd39865bd"
      },
      "outputs": [],
      "source": [
        "# 추가 코드 - 방금 생성한 데이터셋을 간단히 살펴보기\n",
        "plt.figure(figsize=(6, 4))\n",
        "plt.plot(X, y, \".\")\n",
        "plt.xlabel(\"$x_1$\")\n",
        "plt.ylabel(\"$y$  \", rotation=0)\n",
        "plt.axis([0, 3, 0, 3.5])\n",
        "plt.grid()\n",
        "plt.show()"
      ]
    },
    {
      "cell_type": "code",
      "execution_count": 31,
      "metadata": {
        "colab": {
          "base_uri": "https://localhost:8080/"
        },
        "id": "zN39xwjSYjKn",
        "outputId": "835555e7-7571-46d3-e034-b8b18c2655ef"
      },
      "outputs": [
        {
          "data": {
            "text/plain": [
              "array([[8.36977489]])"
            ]
          },
          "execution_count": 31,
          "metadata": {},
          "output_type": "execute_result"
        }
      ],
      "source": [
        "# Ridge ...\n",
        "from sklearn.linear_model import Ridge\n",
        "ridge_reg = Ridge(alpha=0.1, solver=\"cholesky\")\n",
        "ridge_reg.fit(X, y)\n",
        "ridge_reg.predict([[1.5]])"
      ]
    },
    {
      "cell_type": "code",
      "execution_count": null,
      "metadata": {
        "colab": {
          "base_uri": "https://localhost:8080/",
          "height": 345
        },
        "id": "ZzL-1QNKYjKn",
        "outputId": "c2bed8cd-4b21-4689-deaa-40634b2195b7"
      },
      "outputs": [],
      "source": [
        "# 추가 코드 - 이 셀은 그림 4-17을 생성하고 저장합니다.\n",
        "\n",
        "def plot_model(model_class, polynomial, alphas, **model_kwargs):\n",
        "    plt.plot(X, y, \"b.\", linewidth=3)\n",
        "    for alpha, style in zip(alphas, (\"b:\", \"g--\", \"r-\")):\n",
        "        if alpha > 0:\n",
        "            model = model_class(alpha, **model_kwargs)\n",
        "        else:\n",
        "            model = LinearRegression()\n",
        "        if polynomial:\n",
        "            model = make_pipeline(\n",
        "                PolynomialFeatures(degree=10, include_bias=False),\n",
        "                StandardScaler(),\n",
        "                model)\n",
        "        model.fit(X, y)\n",
        "        y_new_regul = model.predict(X_new)\n",
        "        plt.plot(X_new, y_new_regul, style, linewidth=2,\n",
        "                 label=fr\"$\\alpha = {alpha}$\")\n",
        "    plt.legend(loc=\"upper left\")\n",
        "    plt.xlabel(\"$x_1$\")\n",
        "    plt.axis([0, 3, 0, 3.5])\n",
        "    plt.grid()\n",
        "\n",
        "plt.figure(figsize=(9, 3.5))\n",
        "plt.subplot(121)\n",
        "plot_model(Ridge, polynomial=False, alphas=(0, 10, 100), random_state=42)\n",
        "plt.ylabel(\"$y$  \", rotation=0)\n",
        "plt.subplot(122)\n",
        "plot_model(Ridge, polynomial=True, alphas=(0, 10**-5, 1), random_state=42)\n",
        "plt.gca().axes.yaxis.set_ticklabels([])\n",
        "save_fig(\"ridge_regression_plot\")\n",
        "plt.show()"
      ]
    },
    {
      "cell_type": "code",
      "execution_count": null,
      "metadata": {
        "colab": {
          "base_uri": "https://localhost:8080/"
        },
        "id": "qeeMt6BoYjKn",
        "outputId": "7ee0e0f8-7ffd-46df-d9a1-c7ec522db6b5"
      },
      "outputs": [],
      "source": [
        "# SGDRegressor\n",
        "# fit()은 1D 타겟을 기대하므로 y.ravel()을 사용합니다.\n"
      ]
    },
    {
      "cell_type": "code",
      "execution_count": null,
      "metadata": {
        "colab": {
          "base_uri": "https://localhost:8080/"
        },
        "id": "ld5CFMMiYjKn",
        "outputId": "68d70422-3805-4be5-8d2f-e0fa5d0e546e"
      },
      "outputs": [],
      "source": [
        "# 추가 코드 - 확률적 평균 GD(solver=\"sag\")를 사용하면\n",
        "# 이전과 거의 동일한 솔루션을 얻을 수 있음을 보여줍니다.\n",
        "ridge_reg = Ridge(alpha=0.1, solver=\"sag\", random_state=42)\n",
        "ridge_reg.fit(X, y)\n",
        "ridge_reg.predict([[1.5]])"
      ]
    },
    {
      "cell_type": "code",
      "execution_count": null,
      "metadata": {
        "colab": {
          "base_uri": "https://localhost:8080/"
        },
        "id": "XWdPkSglYjKn",
        "outputId": "d26393ef-4f2e-49f3-e4df-9423cfb7b2bf"
      },
      "outputs": [],
      "source": [
        "# 추가 코드 - 해석적으로 구한 릿지 회귀의 해를 보여주고\n",
        "# 아래에서 릿지 모델의 학습된 파라미터와 비교합니다.\n",
        "alpha = 0.1\n",
        "A = np.array([[0., 0.], [0., 1.]])\n",
        "X_b = np.c_[np.ones(m), X]\n",
        "np.linalg.inv(X_b.T @ X_b + alpha * A) @ X_b.T @ y"
      ]
    },
    {
      "cell_type": "code",
      "execution_count": null,
      "metadata": {
        "colab": {
          "base_uri": "https://localhost:8080/"
        },
        "id": "xlcYLU4mYjKn",
        "outputId": "76e447e1-9134-479c-d2a2-121030e81f13"
      },
      "outputs": [],
      "source": [
        "ridge_reg.intercept_, ridge_reg.coef_  # 추가 코드"
      ]
    },
    {
      "cell_type": "markdown",
      "metadata": {
        "id": "4O2CumjHYjKo"
      },
      "source": [
        "## 4.5.2 라쏘 회귀"
      ]
    },
    {
      "cell_type": "code",
      "execution_count": 33,
      "metadata": {
        "colab": {
          "base_uri": "https://localhost:8080/"
        },
        "id": "Tpj2NBOZYjKo",
        "outputId": "903e4624-ef01-4e90-9efd-e89405f40764"
      },
      "outputs": [
        {
          "data": {
            "text/plain": [
              "array([8.31703726])"
            ]
          },
          "execution_count": 33,
          "metadata": {},
          "output_type": "execute_result"
        }
      ],
      "source": [
        "# Lasso\n",
        "from sklearn.linear_model import Lasso\n",
        "lasso_reg = Lasso(alpha=0.1)\n",
        "lasso_reg.fit(X, y)\n",
        "lasso_reg.predict([[1.5]])"
      ]
    },
    {
      "cell_type": "code",
      "execution_count": 34,
      "metadata": {
        "colab": {
          "base_uri": "https://localhost:8080/",
          "height": 345
        },
        "id": "aY6NWMVdYjKo",
        "outputId": "9aacb23e-3a7b-4fc1-99b5-7701e263d568"
      },
      "outputs": [
        {
          "ename": "NameError",
          "evalue": "name 'plot_model' is not defined",
          "output_type": "error",
          "traceback": [
            "\u001b[0;31m---------------------------------------------------------------------------\u001b[0m",
            "\u001b[0;31mNameError\u001b[0m                                 Traceback (most recent call last)",
            "Cell \u001b[0;32mIn[34], line 4\u001b[0m\n\u001b[1;32m      2\u001b[0m plt\u001b[38;5;241m.\u001b[39mfigure(figsize\u001b[38;5;241m=\u001b[39m(\u001b[38;5;241m9\u001b[39m, \u001b[38;5;241m3.5\u001b[39m))\n\u001b[1;32m      3\u001b[0m plt\u001b[38;5;241m.\u001b[39msubplot(\u001b[38;5;241m121\u001b[39m)\n\u001b[0;32m----> 4\u001b[0m \u001b[43mplot_model\u001b[49m(Lasso, polynomial\u001b[38;5;241m=\u001b[39m\u001b[38;5;28;01mFalse\u001b[39;00m, alphas\u001b[38;5;241m=\u001b[39m(\u001b[38;5;241m0\u001b[39m, \u001b[38;5;241m0.1\u001b[39m, \u001b[38;5;241m1\u001b[39m), random_state\u001b[38;5;241m=\u001b[39m\u001b[38;5;241m42\u001b[39m)\n\u001b[1;32m      5\u001b[0m plt\u001b[38;5;241m.\u001b[39mylabel(\u001b[38;5;124m\"\u001b[39m\u001b[38;5;124m$y$  \u001b[39m\u001b[38;5;124m\"\u001b[39m, rotation\u001b[38;5;241m=\u001b[39m\u001b[38;5;241m0\u001b[39m)\n\u001b[1;32m      6\u001b[0m plt\u001b[38;5;241m.\u001b[39msubplot(\u001b[38;5;241m122\u001b[39m)\n",
            "\u001b[0;31mNameError\u001b[0m: name 'plot_model' is not defined"
          ]
        },
        {
          "data": {
            "image/png": "[encoded data removed]",
            "text/plain": [
              "<Figure size 900x350 with 1 Axes>"
            ]
          },
          "metadata": {},
          "output_type": "display_data"
        }
      ],
      "source": [
        "# 추가 코드 - 이 셀은 그림 4-18을 생성하고 저장합니다.\n",
        "plt.figure(figsize=(9, 3.5))\n",
        "plt.subplot(121)\n",
        "plot_model(Lasso, polynomial=False, alphas=(0, 0.1, 1), random_state=42)\n",
        "plt.ylabel(\"$y$  \", rotation=0)\n",
        "plt.subplot(122)\n",
        "plot_model(Lasso, polynomial=True, alphas=(0, 1e-2, 1), random_state=42)\n",
        "plt.gca().axes.yaxis.set_ticklabels([])\n",
        "save_fig(\"lasso_regression_plot\")\n",
        "plt.show()"
      ]
    },
    {
      "cell_type": "code",
      "execution_count": null,
      "metadata": {
        "colab": {
          "base_uri": "https://localhost:8080/",
          "height": 795
        },
        "id": "c-11savgYjKo",
        "outputId": "85210d37-4af1-43d7-bda7-84d5567a1619"
      },
      "outputs": [],
      "source": [
        "# 추가 코드 - 이 셀은 그림 4-19를 생성하고 저장합니다.\n",
        "\n",
        "t1a, t1b, t2a, t2b = -1, 3, -1.5, 1.5\n",
        "\n",
        "t1s = np.linspace(t1a, t1b, 500)\n",
        "t2s = np.linspace(t2a, t2b, 500)\n",
        "t1, t2 = np.meshgrid(t1s, t2s)\n",
        "T = np.c_[t1.ravel(), t2.ravel()]\n",
        "Xr = np.array([[1, 1], [1, -1], [1, 0.5]])\n",
        "yr = 2 * Xr[:, :1] + 0.5 * Xr[:, 1:]\n",
        "\n",
        "J = (1 / len(Xr) * ((T @ Xr.T - yr.T) ** 2).sum(axis=1)).reshape(t1.shape)\n",
        "\n",
        "N1 = np.linalg.norm(T, ord=1, axis=1).reshape(t1.shape)\n",
        "N2 = np.linalg.norm(T, ord=2, axis=1).reshape(t1.shape)\n",
        "\n",
        "t_min_idx = np.unravel_index(J.argmin(), J.shape)\n",
        "t1_min, t2_min = t1[t_min_idx], t2[t_min_idx]\n",
        "\n",
        "t_init = np.array([[0.25], [-1]])\n",
        "\n",
        "def bgd_path(theta, X, y, l1, l2, core=1, eta=0.05, n_iterations=200):\n",
        "    path = [theta]\n",
        "    for iteration in range(n_iterations):\n",
        "        gradients = (core * 2 / len(X) * X.T @ (X @ theta - y)\n",
        "                     + l1 * np.sign(theta) + l2 * theta)\n",
        "        theta = theta - eta * gradients\n",
        "        path.append(theta)\n",
        "    return np.array(path)\n",
        "\n",
        "fig, axes = plt.subplots(2, 2, sharex=True, sharey=True, figsize=(10.1, 8))\n",
        "\n",
        "for i, N, l1, l2, title in ((0, N1, 2.0, 0, \"Lasso\"), (1, N2, 0, 2.0, \"Ridge\")):\n",
        "    JR = J + l1 * N1 + l2 * 0.5 * N2 ** 2\n",
        "\n",
        "    tr_min_idx = np.unravel_index(JR.argmin(), JR.shape)\n",
        "    t1r_min, t2r_min = t1[tr_min_idx], t2[tr_min_idx]\n",
        "\n",
        "    levels = np.exp(np.linspace(0, 1, 20)) - 1\n",
        "    levelsJ = levels * (J.max() - J.min()) + J.min()\n",
        "    levelsJR = levels * (JR.max() - JR.min()) + JR.min()\n",
        "    levelsN = np.linspace(0, N.max(), 10)\n",
        "\n",
        "    path_J = bgd_path(t_init, Xr, yr, l1=0, l2=0)\n",
        "    path_JR = bgd_path(t_init, Xr, yr, l1, l2)\n",
        "    path_N = bgd_path(theta=np.array([[2.0], [0.5]]), X=Xr, y=yr,\n",
        "                      l1=np.sign(l1) / 3, l2=np.sign(l2), core=0)\n",
        "    ax = axes[i, 0]\n",
        "    ax.grid()\n",
        "    ax.axhline(y=0, color=\"k\")\n",
        "    ax.axvline(x=0, color=\"k\")\n",
        "    ax.contourf(t1, t2, N / 2.0, levels=levelsN)\n",
        "    ax.plot(path_N[:, 0], path_N[:, 1], \"y--\")\n",
        "    ax.plot(0, 0, \"ys\")\n",
        "    ax.plot(t1_min, t2_min, \"ys\")\n",
        "    ax.set_title(fr\"$\\ell_{i + 1}$ penalty\")\n",
        "    ax.axis([t1a, t1b, t2a, t2b])\n",
        "    if i == 1:\n",
        "        ax.set_xlabel(r\"$\\theta_1$\")\n",
        "    ax.set_ylabel(r\"$\\theta_2$\", rotation=0)\n",
        "\n",
        "    ax = axes[i, 1]\n",
        "    ax.grid()\n",
        "    ax.axhline(y=0, color=\"k\")\n",
        "    ax.axvline(x=0, color=\"k\")\n",
        "    ax.contourf(t1, t2, JR, levels=levelsJR, alpha=0.9)\n",
        "    ax.plot(path_JR[:, 0], path_JR[:, 1], \"w-o\")\n",
        "    ax.plot(path_N[:, 0], path_N[:, 1], \"y--\")\n",
        "    ax.plot(0, 0, \"ys\")\n",
        "    ax.plot(t1_min, t2_min, \"ys\")\n",
        "    ax.plot(t1r_min, t2r_min, \"rs\")\n",
        "    ax.set_title(title)\n",
        "    ax.axis([t1a, t1b, t2a, t2b])\n",
        "    if i == 1:\n",
        "        ax.set_xlabel(r\"$\\theta_1$\")\n",
        "\n",
        "save_fig(\"lasso_vs_ridge_plot\")\n",
        "plt.show()"
      ]
    },
    {
      "cell_type": "markdown",
      "metadata": {
        "id": "GKbh_SxIYjKo"
      },
      "source": [
        "## 4.5.3 엘라스틱넷"
      ]
    },
    {
      "cell_type": "code",
      "execution_count": 36,
      "metadata": {
        "colab": {
          "base_uri": "https://localhost:8080/"
        },
        "id": "cgenQ03CYjKo",
        "outputId": "7b80bb4b-aab5-453b-db86-be762f67f174"
      },
      "outputs": [
        {
          "ename": "TypeError",
          "evalue": "ElasticNet.__init__() got an unexpected keyword argument 'li_ratio'",
          "output_type": "error",
          "traceback": [
            "\u001b[0;31m---------------------------------------------------------------------------\u001b[0m",
            "\u001b[0;31mTypeError\u001b[0m                                 Traceback (most recent call last)",
            "Cell \u001b[0;32mIn[36], line 3\u001b[0m\n\u001b[1;32m      1\u001b[0m \u001b[38;5;66;03m# ElasticNet\u001b[39;00m\n\u001b[1;32m      2\u001b[0m \u001b[38;5;28;01mfrom\u001b[39;00m \u001b[38;5;21;01msklearn\u001b[39;00m\u001b[38;5;21;01m.\u001b[39;00m\u001b[38;5;21;01mlinear_model\u001b[39;00m \u001b[38;5;28;01mimport\u001b[39;00m ElasticNet\n\u001b[0;32m----> 3\u001b[0m ElasticNet_reg \u001b[38;5;241m=\u001b[39m \u001b[43mElasticNet\u001b[49m\u001b[43m(\u001b[49m\u001b[43malpha\u001b[49m\u001b[38;5;241;43m=\u001b[39;49m\u001b[38;5;241;43m0.1\u001b[39;49m\u001b[43m,\u001b[49m\u001b[43m \u001b[49m\u001b[43mli_ratio\u001b[49m\u001b[38;5;241;43m=\u001b[39;49m\u001b[38;5;241;43m0.5\u001b[39;49m\u001b[43m)\u001b[49m\n\u001b[1;32m      4\u001b[0m ElasticNet_reg\u001b[38;5;241m.\u001b[39mfit(X, y)\n\u001b[1;32m      5\u001b[0m ElasticNet_reg\u001b[38;5;241m.\u001b[39mpredict([[\u001b[38;5;241m1.5\u001b[39m]])\n",
            "\u001b[0;31mTypeError\u001b[0m: ElasticNet.__init__() got an unexpected keyword argument 'li_ratio'"
          ]
        }
      ],
      "source": [
        "# ElasticNet\n",
        "from sklearn.linear_model import ElasticNet\n",
        "ElasticNet_reg = ElasticNet(alpha=0.1, li_ratio=0.5)\n",
        "ElasticNet_reg.fit(X, y)\n",
        "ElasticNet_reg.predict([[1.5]])"
      ]
    },
    {
      "cell_type": "markdown",
      "metadata": {
        "id": "bwIQ9agNYjKp"
      },
      "source": [
        "## 4.5.4 조기 종료"
      ]
    },
    {
      "cell_type": "markdown",
      "metadata": {
        "id": "aYz2bsxHYjKp"
      },
      "source": [
        "앞서 사용한 2차방정식 데이터셋을 다시 사용합니다:"
      ]
    },
    {
      "cell_type": "code",
      "execution_count": null,
      "metadata": {
        "colab": {
          "base_uri": "https://localhost:8080/",
          "height": 395
        },
        "id": "5gNVVwh7YjKp",
        "outputId": "960263e9-4a91-492e-ee01-fe846585348d"
      },
      "outputs": [],
      "source": [
        "# deepcopy ... (slide 49모든 코드)\n",
        "\n",
        "# 추가 코드 - 이전과 동일한 2차방정식 데이터셋을 생성하고 분할합니다.\n",
        "np.random.seed(42)\n",
        "m = 100\n",
        "X = 6 * np.random.rand(m, 1) - 3\n",
        "y = 0.5 * X ** 2 + X + 2 + np.random.randn(m, 1)\n",
        "X_train, y_train = X[: m // 2], y[: m // 2, 0]\n",
        "X_valid, y_valid = X[m // 2 :], y[m // 2 :, 0]\n",
        "\n",
        "# preprocessing ... (슬라이드 49 모든 코드)\n",
        "\n",
        "train_errors, val_errors = [], []  # 추가 코드 - 아래 그림을 위한 것입니다.\n",
        "\n",
        "for epoch in range(n_epochs):\n",
        "    # ...\n",
        "\n",
        "    # 추가 코드 - 훈련 오차를 평가하여 그림에 저장합니다.\n",
        "    y_train_predict = sgd_reg.predict(X_train_prep)\n",
        "    train_error = mean_squared_error(y_train, y_train_predict, squared=False)\n",
        "    val_errors.append(val_error)\n",
        "    train_errors.append(train_error)\n",
        "\n",
        "# 추가 코드 - 이 섹션에서는 그림 4-20을 생성하고 저장합니다.\n",
        "best_epoch = np.argmin(val_errors)\n",
        "plt.figure(figsize=(6, 4))\n",
        "plt.annotate('Best model',\n",
        "             xy=(best_epoch, best_valid_rmse),\n",
        "             xytext=(best_epoch, best_valid_rmse + 0.5),\n",
        "             ha=\"center\",\n",
        "             arrowprops=dict(facecolor='black', shrink=0.05))\n",
        "plt.plot([0, n_epochs], [best_valid_rmse, best_valid_rmse], \"k:\", linewidth=2)\n",
        "plt.plot(val_errors, \"b-\", linewidth=3, label=\"Validation set\")\n",
        "plt.plot(best_epoch, best_valid_rmse, \"bo\")\n",
        "plt.plot(train_errors, \"r--\", linewidth=2, label=\"Training set\")\n",
        "plt.legend(loc=\"upper right\")\n",
        "plt.xlabel(\"Epoch\")\n",
        "plt.ylabel(\"RMSE\")\n",
        "plt.axis([0, n_epochs, 0, 3.5])\n",
        "plt.grid()\n",
        "save_fig(\"early_stopping_plot\")\n",
        "plt.show()"
      ]
    },
    {
      "cell_type": "markdown",
      "metadata": {
        "id": "kVSEuxu_YjKp"
      },
      "source": [
        "# 4.6 로지스틱 회귀"
      ]
    },
    {
      "cell_type": "markdown",
      "metadata": {
        "id": "bVFNi3gdYjKp"
      },
      "source": [
        "## 4.6.1 추정 확률"
      ]
    },
    {
      "cell_type": "code",
      "execution_count": null,
      "metadata": {
        "colab": {
          "base_uri": "https://localhost:8080/",
          "height": 295
        },
        "id": "Q4buoOLEYjKp",
        "outputId": "b9424439-602b-4b4d-fe48-6b40cf7de0d3"
      },
      "outputs": [],
      "source": [
        "# 추가 코드 - 그림 4-21을 생성하고 저장합니다.\n",
        "\n",
        "lim = 6\n",
        "t = np.linspace(-lim, lim, 100)\n",
        "sig = 1 / (1 + np.exp(-t))\n",
        "\n",
        "plt.figure(figsize=(8, 3))\n",
        "plt.plot([-lim, lim], [0, 0], \"k-\")\n",
        "plt.plot([-lim, lim], [0.5, 0.5], \"k:\")\n",
        "plt.plot([-lim, lim], [1, 1], \"k:\")\n",
        "plt.plot([0, 0], [-1.1, 1.1], \"k-\")\n",
        "plt.plot(t, sig, \"b-\", linewidth=2, label=r\"$\\sigma(t) = \\dfrac{1}{1 + e^{-t}}$\")\n",
        "plt.xlabel(\"t\")\n",
        "plt.legend(loc=\"upper left\")\n",
        "plt.axis([-lim, lim, -0.1, 1.1])\n",
        "plt.gca().set_yticks([0, 0.25, 0.5, 0.75, 1])\n",
        "plt.grid()\n",
        "save_fig(\"logistic_function_plot\")\n",
        "plt.show()"
      ]
    },
    {
      "cell_type": "markdown",
      "metadata": {
        "id": "LTtwMViQYjKp"
      },
      "source": [
        "## 4.6.3 결정 경계"
      ]
    },
    {
      "cell_type": "code",
      "execution_count": null,
      "metadata": {
        "colab": {
          "base_uri": "https://localhost:8080/"
        },
        "id": "aV3lIVn1YjKp",
        "outputId": "b5e0a659-397e-4126-803a-3c0a46fb4640"
      },
      "outputs": [],
      "source": [
        "# load_iris"
      ]
    },
    {
      "cell_type": "code",
      "execution_count": null,
      "metadata": {
        "colab": {
          "base_uri": "https://localhost:8080/"
        },
        "id": "Pxwlj0HQYjKq",
        "outputId": "0b1af736-e9fb-4aab-f354-f97eeecedf6f"
      },
      "outputs": [],
      "source": [
        "print(iris.DESCR)  # 추가 코드 - 조금 깁니다."
      ]
    },
    {
      "cell_type": "code",
      "execution_count": null,
      "metadata": {
        "colab": {
          "base_uri": "https://localhost:8080/",
          "height": 143
        },
        "id": "ZZ7OuH4BYjKq",
        "outputId": "2a70242b-3db7-4ca0-cdca-deebe7f10e5b"
      },
      "outputs": [],
      "source": [
        "iris.data.head(3)"
      ]
    },
    {
      "cell_type": "code",
      "execution_count": null,
      "metadata": {
        "colab": {
          "base_uri": "https://localhost:8080/"
        },
        "id": "V145gV8wYjKq",
        "outputId": "c196288f-f6ac-4925-e0de-e2c0d5e01e22"
      },
      "outputs": [],
      "source": [
        "iris.target.head(3)  # 샘플이 섞여 있지 않습니다."
      ]
    },
    {
      "cell_type": "code",
      "execution_count": null,
      "metadata": {
        "colab": {
          "base_uri": "https://localhost:8080/"
        },
        "id": "f2jYyDg0YjKq",
        "outputId": "0a02b752-f777-4af4-9ad6-4a874f109bea"
      },
      "outputs": [],
      "source": [
        "iris.target_names"
      ]
    },
    {
      "cell_type": "code",
      "execution_count": null,
      "metadata": {
        "colab": {
          "base_uri": "https://localhost:8080/",
          "height": 75
        },
        "id": "pmoweh1PYjKq",
        "outputId": "90b782a8-0fb4-45c9-9231-91b3d43ddbd5"
      },
      "outputs": [],
      "source": [
        "# LogisticRegression\n"
      ]
    },
    {
      "cell_type": "code",
      "execution_count": null,
      "metadata": {
        "colab": {
          "base_uri": "https://localhost:8080/",
          "height": 295
        },
        "id": "ux7nJugdYjKq",
        "outputId": "6247bf7c-0afb-40aa-bafd-fdcb945e6c9b"
      },
      "outputs": [],
      "source": [
        "# 크기를 바꾸어 열 벡터를 얻습니다.\n",
        "\n",
        "\n",
        "plt.figure(figsize=(8, 3))  # 추가 코드\n",
        "\n",
        "# plt.plot() ...\n",
        "\n",
        "# 추가 코드 - 이 섹션에서는 그림 4-23을 꾸미고 저장합니다.\n",
        "plt.arrow(x=decision_boundary, y=0.08, dx=-0.3, dy=0,\n",
        "          head_width=0.05, head_length=0.1, fc=\"b\", ec=\"b\")\n",
        "plt.arrow(x=decision_boundary, y=0.92, dx=0.3, dy=0,\n",
        "          head_width=0.05, head_length=0.1, fc=\"g\", ec=\"g\")\n",
        "plt.plot(X_train[y_train == 0], y_train[y_train == 0], \"bs\")\n",
        "plt.plot(X_train[y_train == 1], y_train[y_train == 1], \"g^\")\n",
        "plt.xlabel(\"Petal width (cm)\")\n",
        "plt.ylabel(\"Probability\")\n",
        "plt.legend(loc=\"center left\")\n",
        "plt.axis([0, 3, -0.02, 1.02])\n",
        "plt.grid()\n",
        "save_fig(\"logistic_regression_plot\")\n",
        "\n",
        "plt.show()"
      ]
    },
    {
      "cell_type": "code",
      "execution_count": null,
      "metadata": {
        "colab": {
          "base_uri": "https://localhost:8080/"
        },
        "id": "aoNGHvoYYjKq",
        "outputId": "c1e81514-be4a-4aa3-c407-a0f1ea8a710c"
      },
      "outputs": [],
      "source": [
        "decision_boundary"
      ]
    },
    {
      "cell_type": "code",
      "execution_count": null,
      "metadata": {
        "colab": {
          "base_uri": "https://localhost:8080/"
        },
        "id": "LkY5GMlmYjKr",
        "outputId": "126f9db8-89cb-4e99-ccaf-8076663d5cae"
      },
      "outputs": [],
      "source": [
        "log_reg.predict([[1.7], [1.5]])"
      ]
    },
    {
      "cell_type": "code",
      "execution_count": null,
      "metadata": {
        "colab": {
          "base_uri": "https://localhost:8080/",
          "height": 395
        },
        "id": "N2m02QLAYjKr",
        "outputId": "8f828176-7cdf-4d59-c47e-7a5ffa3f004a"
      },
      "outputs": [],
      "source": [
        "# 추가 코드 - 이 셀은 그림 4-24를 생성하고 저장합니다.\n",
        "\n",
        "X = iris.data[[\"petal length (cm)\", \"petal width (cm)\"]].values\n",
        "y = iris.target_names[iris.target] == 'virginica'\n",
        "X_train, X_test, y_train, y_test = train_test_split(X, y, random_state=42)\n",
        "\n",
        "log_reg = LogisticRegression(C=2, random_state=42)\n",
        "log_reg.fit(X_train, y_train)\n",
        "\n",
        "# 등고선 그래프\n",
        "x0, x1 = np.meshgrid(np.linspace(2.9, 7, 500).reshape(-1, 1),\n",
        "                     np.linspace(0.8, 2.7, 200).reshape(-1, 1))\n",
        "X_new = np.c_[x0.ravel(), x1.ravel()]  # 그림의 포인트당 하나의 샘플\n",
        "y_proba = log_reg.predict_proba(X_new)\n",
        "zz = y_proba[:, 1].reshape(x0.shape)\n",
        "\n",
        "# 결정 경계\n",
        "left_right = np.array([2.9, 7])\n",
        "boundary = -((log_reg.coef_[0, 0] * left_right + log_reg.intercept_[0])\n",
        "             / log_reg.coef_[0, 1])\n",
        "\n",
        "plt.figure(figsize=(10, 4))\n",
        "plt.plot(X_train[y_train == 0, 0], X_train[y_train == 0, 1], \"bs\")\n",
        "plt.plot(X_train[y_train == 1, 0], X_train[y_train == 1, 1], \"g^\")\n",
        "contour = plt.contour(x0, x1, zz, cmap=plt.cm.brg)\n",
        "plt.clabel(contour, inline=1)\n",
        "plt.plot(left_right, boundary, \"k--\", linewidth=3)\n",
        "plt.text(3.5, 1.27, \"Not Iris virginica\", color=\"b\", ha=\"center\")\n",
        "plt.text(6.5, 2.3, \"Iris virginica\", color=\"g\", ha=\"center\")\n",
        "plt.xlabel(\"Petal length\")\n",
        "plt.ylabel(\"Petal width\")\n",
        "plt.axis([2.9, 7, 0.8, 2.7])\n",
        "plt.grid()\n",
        "save_fig(\"logistic_regression_contour_plot\")\n",
        "plt.show()"
      ]
    },
    {
      "cell_type": "markdown",
      "metadata": {
        "id": "G-gTPW-hYjKr"
      },
      "source": [
        "## 4.6.4 소프트맥스 회귀"
      ]
    },
    {
      "cell_type": "code",
      "execution_count": null,
      "metadata": {
        "colab": {
          "base_uri": "https://localhost:8080/",
          "height": 75
        },
        "id": "fdZVZgYuYjKr",
        "outputId": "72c0ad49-3387-41ac-a959-f1c0f177e01a"
      },
      "outputs": [],
      "source": [
        "# X = iris.data[...]"
      ]
    },
    {
      "cell_type": "code",
      "execution_count": null,
      "metadata": {
        "colab": {
          "base_uri": "https://localhost:8080/"
        },
        "id": "cqMIj2T3YjKr",
        "outputId": "508219cd-6bf0-4111-8da2-42832a5b40f9",
        "tags": []
      },
      "outputs": [],
      "source": [
        "softmax_reg.predict([[5, 2]])"
      ]
    },
    {
      "cell_type": "code",
      "execution_count": null,
      "metadata": {
        "colab": {
          "base_uri": "https://localhost:8080/"
        },
        "id": "Q-H0buqAYjKr",
        "outputId": "397baa01-382d-4f98-9bb5-1edf399db39b",
        "tags": []
      },
      "outputs": [],
      "source": [
        "softmax_reg.predict_proba([[5, 2]]).round(2)"
      ]
    },
    {
      "cell_type": "code",
      "execution_count": null,
      "metadata": {
        "colab": {
          "base_uri": "https://localhost:8080/",
          "height": 395
        },
        "id": "R-zKKQFMYjKr",
        "outputId": "cbb36985-eeb9-4c7f-c9f2-2d300f41e94c"
      },
      "outputs": [],
      "source": [
        "# 추가 코드 - 이 셀은 그림 4-25를 생성하고 저장합니다.\n",
        "\n",
        "from matplotlib.colors import ListedColormap\n",
        "\n",
        "custom_cmap = ListedColormap([\"#fafab0\", \"#9898ff\", \"#a0faa0\"])\n",
        "\n",
        "x0, x1 = np.meshgrid(np.linspace(0, 8, 500).reshape(-1, 1),\n",
        "                     np.linspace(0, 3.5, 200).reshape(-1, 1))\n",
        "X_new = np.c_[x0.ravel(), x1.ravel()]\n",
        "\n",
        "y_proba = softmax_reg.predict_proba(X_new)\n",
        "y_predict = softmax_reg.predict(X_new)\n",
        "\n",
        "zz1 = y_proba[:, 1].reshape(x0.shape)\n",
        "zz = y_predict.reshape(x0.shape)\n",
        "\n",
        "plt.figure(figsize=(10, 4))\n",
        "plt.plot(X[y == 2, 0], X[y == 2, 1], \"g^\", label=\"Iris virginica\")\n",
        "plt.plot(X[y == 1, 0], X[y == 1, 1], \"bs\", label=\"Iris versicolor\")\n",
        "plt.plot(X[y == 0, 0], X[y == 0, 1], \"yo\", label=\"Iris setosa\")\n",
        "\n",
        "plt.contourf(x0, x1, zz, cmap=custom_cmap)\n",
        "contour = plt.contour(x0, x1, zz1, cmap=\"hot\")\n",
        "plt.clabel(contour, inline=1)\n",
        "plt.xlabel(\"Petal length\")\n",
        "plt.ylabel(\"Petal width\")\n",
        "plt.legend(loc=\"center left\")\n",
        "plt.axis([0.5, 7, 0, 3.5])\n",
        "plt.grid()\n",
        "save_fig(\"softmax_regression_contour_plot\")\n",
        "plt.show()"
      ]
    }
  ],
  "metadata": {
    "colab": {
      "provenance": []
    },
    "kernelspec": {
      "display_name": "Python 3",
      "language": "python",
      "name": "python3"
    },
    "language_info": {
      "codemirror_mode": {
        "name": "ipython",
        "version": 3
      },
      "file_extension": ".py",
      "mimetype": "text/x-python",
      "name": "python",
      "nbconvert_exporter": "python",
      "pygments_lexer": "ipython3",
      "version": "3.12.1"
    },
    "nav_menu": {},
    "toc": {
      "navigate_menu": true,
      "number_sections": true,
      "sideBar": true,
      "threshold": 6,
      "toc_cell": false,
      "toc_section_display": "block",
      "toc_window_display": false
    }
  },
  "nbformat": 4,
  "nbformat_minor": 0
}
